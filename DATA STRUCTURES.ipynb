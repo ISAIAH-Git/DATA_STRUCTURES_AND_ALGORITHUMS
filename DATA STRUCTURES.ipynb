{
 "cells": [
  {
   "cell_type": "markdown",
   "metadata": {},
   "source": [
    "# Exercise- Data Structures"
   ]
  },
  {
   "cell_type": "code",
   "execution_count": 19,
   "metadata": {},
   "outputs": [
    {
     "name": "stdout",
     "output_type": "stream",
     "text": [
      "193\n"
     ]
    }
   ],
   "source": [
    "from functools import reduce\n",
    "li = [5, 8, 10, 20, 50, 100] \n",
    "sum1 = reduce((lambda x, y: x + y), li) \n",
    "print (sum1)"
   ]
  },
  {
   "cell_type": "code",
   "execution_count": 6,
   "metadata": {},
   "outputs": [
    {
     "name": "stdout",
     "output_type": "stream",
     "text": [
      "The first and last number of a list is same\n",
      "result is True\n"
     ]
    }
   ],
   "source": [
    "#1.\n",
    "def isFirst_And_Last_Same(numberList):\n",
    "    firstElement = numberList[0]\n",
    "    lastElement =  numberList[-1]\n",
    "    if(firstElement == lastElement):\n",
    "        return True\n",
    "    else:\n",
    "        return False\n",
    "\n",
    "numList = [10, 20, 30, 40, 10]\n",
    "\n",
    "print(\"The first and last number of a list is same\")\n",
    "print(\"result is\", isFirst_And_Last_Same(numList))\n"
   ]
  },
  {
   "cell_type": "code",
   "execution_count": 7,
   "metadata": {},
   "outputs": [
    {
     "name": "stdout",
     "output_type": "stream",
     "text": [
      "Emma appeared  2 times\n"
     ]
    }
   ],
   "source": [
    "#2.\n",
    "def count_jhon(statement):\n",
    "    count = 0\n",
    "    return statement.count(\"Emma\")\n",
    "\n",
    "count = count_jhon(\"Emma is good developer. Emma is aslo a writer\")\n",
    "print(\"Emma appeared \", count, \"times\")"
   ]
  },
  {
   "cell_type": "code",
   "execution_count": 8,
   "metadata": {},
   "outputs": [
    {
     "name": "stdout",
     "output_type": "stream",
     "text": [
      "welcome\n",
      "wloe\n"
     ]
    }
   ],
   "source": [
    "#3.\n",
    "x=input()\n",
    "print(x[::2])"
   ]
  },
  {
   "cell_type": "code",
   "execution_count": 9,
   "metadata": {},
   "outputs": [
    {
     "name": "stdout",
     "output_type": "stream",
     "text": [
      "most welcome\n",
      "ms ecm\n"
     ]
    }
   ],
   "source": [
    "#3.\n",
    "x=input()\n",
    "for i in x:\n",
    "    y=x[::2]\n",
    "print(y)"
   ]
  },
  {
   "cell_type": "code",
   "execution_count": 10,
   "metadata": {},
   "outputs": [
    {
     "name": "stdout",
     "output_type": "stream",
     "text": [
      "\n",
      "\n",
      "1 \n",
      "\n",
      "2 2 \n",
      "\n",
      "3 3 3 \n",
      "\n",
      "4 4 4 4 \n",
      "\n",
      "5 5 5 5 5 \n",
      "\n",
      "6 6 6 6 6 6 \n",
      "\n",
      "7 7 7 7 7 7 7 \n",
      "\n",
      "8 8 8 8 8 8 8 8 \n",
      "\n",
      "9 9 9 9 9 9 9 9 9 \n",
      "\n"
     ]
    }
   ],
   "source": [
    "#4\n",
    "for num in range(10):\n",
    "    for i in range(num):\n",
    "        print (num, end=\" \") #print number\n",
    "    # new line after each row to display pattern correctly\n",
    "    print(\"\\n\")"
   ]
  },
  {
   "cell_type": "code",
   "execution_count": 11,
   "metadata": {},
   "outputs": [
    {
     "name": "stdout",
     "output_type": "stream",
     "text": [
      "Enter first number 8\n",
      "Enter second number9\n",
      "The result is 72\n"
     ]
    }
   ],
   "source": [
    "#5.\n",
    "def multiplication_or_sum(num1, num2):\n",
    "    product = num1 *num2\n",
    "    if(product < 1000):\n",
    "        return product\n",
    "    else:\n",
    "        return num1 +num2\n",
    "\n",
    "number1 = int(input(\"Enter first number \"))\n",
    "number2 = int(input(\"Enter second number\"))\n",
    "\n",
    "result = multiplication_or_sum(number1, number2)\n",
    "print(\"The result is\", result)"
   ]
  },
  {
   "cell_type": "code",
   "execution_count": 12,
   "metadata": {},
   "outputs": [
    {
     "name": "stdout",
     "output_type": "stream",
     "text": [
      "Original list  [11, 45, 8, 11, 23, 45, 23, 45, 89]\n",
      "Printing count of each item   {11: 2, 45: 3, 8: 1, 23: 2, 89: 1}\n"
     ]
    }
   ],
   "source": [
    "#6. \n",
    "sampleList = [11, 45, 8, 11, 23, 45, 23, 45, 89]\n",
    "print(\"Original list \", sampleList)\n",
    "\n",
    "countDict = dict()\n",
    "for item in sampleList:\n",
    "    if(item in countDict):\n",
    "        countDict[item] += 1\n",
    "    else:\n",
    "        countDict[item] = 1\n",
    "print(\"Printing count of each item  \",countDict)"
   ]
  },
  {
   "cell_type": "code",
   "execution_count": 13,
   "metadata": {},
   "outputs": [
    {
     "name": "stdout",
     "output_type": "stream",
     "text": [
      "First Set  {65, 42, 78, 83, 23, 57, 29}\n",
      "Second Set  {67, 73, 43, 48, 83, 57, 29}\n",
      "Intersection is  {57, 83, 29}\n",
      "First Set after removing common element  {65, 42, 78, 23}\n"
     ]
    }
   ],
   "source": [
    "#7.\n",
    "firstSet  = {23, 42, 65, 57, 78, 83, 29}\n",
    "secondSet = {57, 83, 29, 67, 73, 43, 48}\n",
    "\n",
    "print(\"First Set \", firstSet)\n",
    "print(\"Second Set \", secondSet)\n",
    "\n",
    "intersection = firstSet.intersection(secondSet)\n",
    "print(\"Intersection is \", intersection)\n",
    "\n",
    "for item in intersection:\n",
    "    firstSet.remove(item)\n",
    "\n",
    "print(\"First Set after removing common element \", firstSet)"
   ]
  },
  {
   "cell_type": "code",
   "execution_count": 14,
   "metadata": {},
   "outputs": [
    {
     "data": {
      "text/plain": [
       "343"
      ]
     },
     "execution_count": 14,
     "metadata": {},
     "output_type": "execute_result"
    }
   ],
   "source": [
    "#8.\n",
    "def cube(y): \n",
    "    return y*y*y; \n",
    "\n",
    "cube(7)\n"
   ]
  },
  {
   "cell_type": "code",
   "execution_count": 15,
   "metadata": {},
   "outputs": [
    {
     "name": "stdout",
     "output_type": "stream",
     "text": [
      "343\n"
     ]
    }
   ],
   "source": [
    "#8.\n",
    "g = lambda x: x*x*x \n",
    "print(g(7)) "
   ]
  },
  {
   "cell_type": "code",
   "execution_count": 16,
   "metadata": {},
   "outputs": [
    {
     "name": "stdout",
     "output_type": "stream",
     "text": [
      "[5, 7, 97, 77, 23, 73, 61]\n"
     ]
    }
   ],
   "source": [
    "#9.#filter and lambda\n",
    "li = [5, 7, 22, 97, 54, 62, 77, 23, 73, 61] \n",
    "final_list = list(filter(lambda x: (x%2 != 0) , li)) \n",
    "print(final_list)"
   ]
  },
  {
   "cell_type": "code",
   "execution_count": 17,
   "metadata": {},
   "outputs": [
    {
     "name": "stdout",
     "output_type": "stream",
     "text": [
      "[10, 14, 44, 194, 108, 124, 154, 46, 146, 122]\n"
     ]
    }
   ],
   "source": [
    "#10.\n",
    "final_list = list(map(lambda x: x*2 , li)) \n",
    "print(final_list) "
   ]
  },
  {
   "cell_type": "code",
   "execution_count": null,
   "metadata": {},
   "outputs": [],
   "source": []
  },
  {
   "cell_type": "code",
   "execution_count": 18,
   "metadata": {},
   "outputs": [
    {
     "data": {
      "text/plain": [
       "[(1, 4), (2, 5), (3, 6)]"
      ]
     },
     "execution_count": 18,
     "metadata": {},
     "output_type": "execute_result"
    }
   ],
   "source": [
    "a=[1,2,3]\n",
    "b=[4,5,6]\n",
    "list(zip(a,b))"
   ]
  },
  {
   "cell_type": "code",
   "execution_count": 9,
   "metadata": {},
   "outputs": [
    {
     "name": "stdout",
     "output_type": "stream",
     "text": [
      "The number is Armstrong numbers 0\n",
      "The number is Armstrong numbers 1\n",
      "The number is Armstrong numbers 2\n",
      "The number is Armstrong numbers 3\n",
      "The number is Armstrong numbers 4\n",
      "The number is Armstrong numbers 5\n",
      "The number is Armstrong numbers 6\n",
      "The number is Armstrong numbers 7\n",
      "The number is Armstrong numbers 8\n",
      "The number is Armstrong numbers 9\n",
      "The number is Armstrong numbers 153\n",
      "The number is Armstrong numbers 370\n",
      "The number is Armstrong numbers 371\n",
      "The number is Armstrong numbers 407\n"
     ]
    }
   ],
   "source": [
    "#ARMSTRONG NUMBER -POWER OF N TH DIGITS OF ITS NUMBER --EX 22 --2**2+2**2=8  8!=22 (NOT AMSTRONG NUMBER\n",
    "#PROGRAM TO SAY A NUMBER IS ARMSTRONG.Ex of armstrong  \n",
    "#Points\n",
    "#1.To seperate last digit of a number divide it by 153%10=3 (remainder)\n",
    "#2.To eliminate last digit of a number divide it by 153//10=15 ( whole part of division)\n",
    "#3.To Calculate the length of an integer convert it into a string and use length function on it len('153')=3\n",
    "#4. To stop the searching use for all first digit we get n//10=0 \n",
    "\n",
    "for i in range(1001):\n",
    "    num=i\n",
    "    result=0\n",
    "    n=len(str(i))\n",
    "    while(i!=0):\n",
    "        digit=i%10\n",
    "        result=result+digit**n\n",
    "        i=i//10\n",
    "    if(num==result):\n",
    "        print(\"The number is Armstrong numbers\",num)\n",
    "        \n"
   ]
  },
  {
   "cell_type": "code",
   "execution_count": 11,
   "metadata": {},
   "outputs": [
    {
     "name": "stdout",
     "output_type": "stream",
     "text": [
      "enter the number of rows5\n",
      "1\n",
      "12\n",
      "123\n",
      "1234\n",
      "12345\n"
     ]
    }
   ],
   "source": [
    "#PRINTING NUMBER IN RIGHT TRIANGLE SHAPE \n",
    "n=int(input(\"enter the number of rows: \")) #only input takes the data as string so int(input())\n",
    "for i in range(1,n+1): #Starts from 1 so and has ends  (1,\n",
    "    for j in range(1,i+1):\n",
    "        print(j,end=\"\")#end=\"\"(in same line.)\n",
    "    print()\n",
    "        \n"
   ]
  },
  {
   "cell_type": "code",
   "execution_count": 12,
   "metadata": {},
   "outputs": [
    {
     "name": "stdout",
     "output_type": "stream",
     "text": [
      "enter the number of rows4\n",
      "1\n",
      "22\n",
      "333\n",
      "4444\n"
     ]
    }
   ],
   "source": [
    "n=int(input(\"enter the number of rows: \")) #only input takes the data as string \n",
    "for i in range(1,n+1):\n",
    "    for j in range(1,i+1):\n",
    "        print(i,end=\"\")\n",
    "    print()\n",
    "        "
   ]
  },
  {
   "cell_type": "code",
   "execution_count": 19,
   "metadata": {},
   "outputs": [
    {
     "name": "stdout",
     "output_type": "stream",
     "text": [
      "Enter the number of rows: 5\n",
      "*    \n",
      "**   \n",
      "* *  \n",
      "*  * \n",
      "*****\n"
     ]
    }
   ],
   "source": [
    "#hollow triangle \n",
    "n=int(input(\"Enter the number of rows: \"))\n",
    "for row in range(n): #row\n",
    "    for column in range(n): #Column\n",
    "        if(column==0 or row==(n-1) or row==column): #AT last row always we print *s' so we use row=n-1(last row),here=5-1=4\n",
    "            print('*',end=\"\")#End makes vale in same line and be print space\n",
    "        else:\n",
    "            print(end=\" \")\n",
    "    print()#for new line.'\\n'\n",
    "            \n",
    "        "
   ]
  },
  {
   "cell_type": "code",
   "execution_count": 18,
   "metadata": {},
   "outputs": [
    {
     "name": "stdout",
     "output_type": "stream",
     "text": [
      "10\n",
      "*          \n",
      "**         \n",
      "* *        \n",
      "*  *       \n",
      "*   *      \n",
      "*    *     \n",
      "*     *    \n",
      "*      *   \n",
      "*       *  \n",
      "********** \n"
     ]
    }
   ],
   "source": [
    "n=int(input())\n",
    "for row in range(n):\n",
    "    for col in range(n):\n",
    "        if(col==0 or row==(n-1) or row==col):\n",
    "            print('*',end=\"\")\n",
    "        else:\n",
    "            print(end=\" \")\n",
    "    print(' ')\n"
   ]
  },
  {
   "cell_type": "code",
   "execution_count": 22,
   "metadata": {},
   "outputs": [
    {
     "name": "stdout",
     "output_type": "stream",
     "text": [
      "*    \n",
      "**   \n",
      "* *  \n",
      "*  * \n",
      "*****\n"
     ]
    }
   ],
   "source": [
    "#Hollow Triangle.\n",
    "for i in range(5):\n",
    "    for j in range(5):\n",
    "        if(j==0 or i==4 or i==j):\n",
    "            print(\"*\",end=\"\")\n",
    "        else:\n",
    "            print(end=\" \")\n",
    "    print()\n",
    "        "
   ]
  },
  {
   "cell_type": "code",
   "execution_count": 29,
   "metadata": {},
   "outputs": [
    {
     "name": "stdout",
     "output_type": "stream",
     "text": [
      "Enter the number :5\n",
      "120\n"
     ]
    }
   ],
   "source": [
    "#FACTORIAL OF A NUMBER:\n",
    "#1)REcursion\n",
    "#2)math library\n",
    "#3)iteration\n",
    "#using math Library\n",
    "import math\n",
    "n=int(input(\"Enter the number :\"))\n",
    "result=math.factorial(n)\n",
    "print(result)"
   ]
  },
  {
   "cell_type": "code",
   "execution_count": 32,
   "metadata": {},
   "outputs": [
    {
     "name": "stdout",
     "output_type": "stream",
     "text": [
      "120\n"
     ]
    }
   ],
   "source": [
    "#using recursion\n",
    "def factorial(n):\n",
    "    if(n<=0):\n",
    "        return 1\n",
    "    else:\n",
    "        result=n*factorial(n-1)\n",
    "    return result\n",
    "print(factorial(5))"
   ]
  },
  {
   "cell_type": "code",
   "execution_count": 35,
   "metadata": {},
   "outputs": [
    {
     "name": "stdout",
     "output_type": "stream",
     "text": [
      "Enter the value of the number :5\n",
      "factorial of 120\n"
     ]
    }
   ],
   "source": [
    "#USING LOOPS\n",
    "n=int(input(\"Enter the value of the number :\"))\n",
    "result=1\n",
    "for i in range(n,0,-1):\n",
    "    result=result*i\n",
    "print(\"factorial of\",result)"
   ]
  },
  {
   "cell_type": "code",
   "execution_count": 36,
   "metadata": {},
   "outputs": [
    {
     "name": "stdout",
     "output_type": "stream",
     "text": [
      "Enter the number of rows :6\n",
      "******\n",
      " *   *\n",
      "  *  *\n",
      "   * *\n",
      "    **\n",
      "     *\n"
     ]
    }
   ],
   "source": [
    "#INVERTED hollow TRIANGLE\n",
    "n=int(input(\"Enter the number of rows :\"))\n",
    "for row in range(n):\n",
    "    for col in range(n):\n",
    "        if(row==0 or col==n-1 or row==col):\n",
    "            print(\"*\",end=\"\")\n",
    "        else:\n",
    "            print(end=\" \")\n",
    "    print()"
   ]
  },
  {
   "cell_type": "code",
   "execution_count": 4,
   "metadata": {},
   "outputs": [
    {
     "name": "stdout",
     "output_type": "stream",
     "text": [
      "Enter the number of rows :4\n",
      "1 \n",
      "2 3 \n",
      "4 5 6 \n",
      "7 8 9 10 \n"
     ]
    }
   ],
   "source": [
    "#Pattern in right triangle (Flyods traingle)\n",
    "n=int(input(\"Enter the number of rows :\"))\n",
    "num=1\n",
    "for row in range(1,n+1):\n",
    "    for col in range(1,row+1):        \n",
    "        print(num,end=\" \")\n",
    "        num=num+1\n",
    "    print()"
   ]
  },
  {
   "cell_type": "code",
   "execution_count": 38,
   "metadata": {},
   "outputs": [
    {
     "name": "stdout",
     "output_type": "stream",
     "text": [
      "Enter the string :isaiah\n",
      "i\n",
      "is\n",
      "isa\n",
      "isai\n",
      "isaia\n",
      "isaiah\n"
     ]
    }
   ],
   "source": [
    "#STRING PATTERN\n",
    "string=input(\"Enter the string :\")\n",
    "length=len(string)\n",
    "for row in range(0,length):\n",
    "    for col in range(0,row+1):\n",
    "        print(string[col],end=\"\")\n",
    "    print()"
   ]
  },
  {
   "cell_type": "code",
   "execution_count": 40,
   "metadata": {},
   "outputs": [
    {
     "name": "stdout",
     "output_type": "stream",
     "text": [
      "Enter the value:10\n",
      "0 1 1 2 3 5 8 13 21 34 "
     ]
    }
   ],
   "source": [
    "#FIBONACCI NUMBERS:\n",
    "n=int(input(\"Enter the value:\"))\n",
    "first=0\n",
    "second=1\n",
    "for i in range(n):\n",
    "    print(first,end= \" \")\n",
    "    temp=first\n",
    "    first=second\n",
    "    second=temp+second\n",
    "    "
   ]
  },
  {
   "cell_type": "code",
   "execution_count": 41,
   "metadata": {},
   "outputs": [
    {
     "name": "stdout",
     "output_type": "stream",
     "text": [
      "Enter the number of rows :5\n",
      "12345\n",
      "1234\n",
      "123\n",
      "12\n",
      "1\n"
     ]
    }
   ],
   "source": [
    "n=int(input(\"Enter the number of rows :\"))\n",
    "for row in range(n,0,-1):\n",
    "    for col in range(1,row+1):\n",
    "        print(col,end=\"\")\n",
    "    print()\n",
    "    "
   ]
  },
  {
   "cell_type": "code",
   "execution_count": 42,
   "metadata": {},
   "outputs": [
    {
     "name": "stdout",
     "output_type": "stream",
     "text": [
      "Enter the number of rows :5\n",
      "55555\n",
      "4444\n",
      "333\n",
      "22\n",
      "1\n"
     ]
    }
   ],
   "source": [
    "n=int(input(\"Enter the number of rows :\"))\n",
    "for row in range(n,0,-1):\n",
    "    for col in range(1,row+1):\n",
    "        print(row,end=\"\")\n",
    "    print()"
   ]
  },
  {
   "cell_type": "code",
   "execution_count": 48,
   "metadata": {},
   "outputs": [
    {
     "name": "stdout",
     "output_type": "stream",
     "text": [
      "Enter the lower interval :1\n",
      "Enter the upper interval: 100\n",
      "2 3 5 7 11 13 17 19 23 29 31 37 41 43 47 53 59 61 67 71 73 79 83 89 97 "
     ]
    }
   ],
   "source": [
    "#PRIME NUMBERS IN SPECIFIC INTERVAL\n",
    "#IS A NATURAL NUMBER GREATER THAN 1 THAT HAS NO positive divisors other than 1 and itself\n",
    "lower=int(input(\"Enter the lower interval :\"))\n",
    "upper=int(input(\"Enter the upper interval: \"))\n",
    "for num in range(lower,upper+1):\n",
    "        if(num>1):\n",
    "            for i in range(2,num):\n",
    "                if(num%i==0):\n",
    "                    break\n",
    "            else:\n",
    "                print(num,end=\" \")\n",
    "                    "
   ]
  },
  {
   "cell_type": "code",
   "execution_count": 16,
   "metadata": {},
   "outputs": [
    {
     "name": "stdout",
     "output_type": "stream",
     "text": [
      "Enter the number to check number is prime: 55675765765\n",
      "The number is Not Prime: 55675765765\n"
     ]
    }
   ],
   "source": [
    "#To check a given number is prime number.\n",
    "n=int(input(\"Enter the number to check number is prime: \"))\n",
    "if(n>1):\n",
    "    for i in range(2,n):\n",
    "        if(n%i==0):\n",
    "            print(\"The number is Not Prime:\",n)\n",
    "            break\n",
    "    else:\n",
    "        print(\"The number is prime\",n)\n"
   ]
  },
  {
   "cell_type": "code",
   "execution_count": 19,
   "metadata": {},
   "outputs": [
    {
     "name": "stdout",
     "output_type": "stream",
     "text": [
      "   *   \n",
      "  * *  \n",
      " *   * \n",
      "*******\n"
     ]
    }
   ],
   "source": [
    "#HOLLOW TRIANGLE\n",
    "\n",
    "for row in range(1,5):\n",
    "    for col in range(1,8):\n",
    "        if(row==4 or row+col==5 or col-row==3):\n",
    "            print(\"*\",end=\"\")\n",
    "        else:\n",
    "            print(end=\" \")\n",
    "    print()"
   ]
  },
  {
   "cell_type": "code",
   "execution_count": 21,
   "metadata": {},
   "outputs": [
    {
     "name": "stdout",
     "output_type": "stream",
     "text": [
      "Enter the number of rows: 10\n",
      "         *         \n",
      "        * *        \n",
      "       *   *       \n",
      "      *     *      \n",
      "     *       *     \n",
      "    *         *    \n",
      "   *           *   \n",
      "  *             *  \n",
      " *               * \n",
      "*******************\n"
     ]
    }
   ],
   "source": [
    "# user input HOLLOW TRIANGLE\n",
    "n=int(input(\"Enter the number of rows: \"))\n",
    "for row in range(1,n+1):#(1,(n=4)+1)\n",
    "    for col in range(1,2*n):#(1,(n=4)*2)\n",
    "        if(row==n or row+col==n+1 or col-row==n-1):\n",
    "            print(\"*\",end=\"\")\n",
    "        else:\n",
    "            print(end=\" \")\n",
    "    print()"
   ]
  },
  {
   "cell_type": "code",
   "execution_count": 26,
   "metadata": {},
   "outputs": [
    {
     "name": "stdout",
     "output_type": "stream",
     "text": [
      "Enter the number of rows: 6\n",
      "     *     \n",
      "    * *    \n",
      "   *   *   \n",
      "  *     *  \n",
      " *       * \n",
      "* * * * * *\n"
     ]
    }
   ],
   "source": [
    "#EQUILATERAL TRIANGLE \n",
    "# user input HOLLOW TRIANGLE\n",
    "n=int(input(\"Enter the number of rows: \"))\n",
    "k=2\n",
    "for row in range(1,n+1):\n",
    "    for col in range(1,2*n):\n",
    "        if( row+col==n+1 or col-row==n-1):\n",
    "            print(\"*\",end=\"\")\n",
    "        elif(row==n and col!=k):\n",
    "            print(\"*\",end=\"\")\n",
    "            k=k+2\n",
    "        else:\n",
    "            print(end=\" \")\n",
    "    print()"
   ]
  },
  {
   "cell_type": "code",
   "execution_count": 30,
   "metadata": {},
   "outputs": [
    {
     "name": "stdout",
     "output_type": "stream",
     "text": [
      "Enter the number: 28\n",
      "The number is a perfect number 28\n"
     ]
    }
   ],
   "source": [
    "#DEFINATION : 1\n",
    "#ENTERED NUMBER IS PERFECT NUMBER OR NOT:\n",
    "#PERFECT NUMBER IS POSITIVE INTEGER THAT IS EQUAL TO THE SUM OF ITS POSITIVE DIVISOR EXCLUDING THE NUMBER ITSELF\n",
    "#EX:- 6 DIVIDES BY 1,2,3; SUM=1+2+3=6 IS PERFECT NUMBER.\n",
    "#EX:- 4 DIVIDES BY 1,2 ; SUM=1+2=3 IS NOT A PERFECT NUMBER.\n",
    "\n",
    "#DEEFINATION :2\n",
    "#PERFECT NUMBER IS A POSITIVE INTEGER THAT IS EQUAL TO THE HALF OF SUM OF ITS ALL POSITIVE DIVISORS\n",
    "#EX:- 6 divides by 1,2,3,6 ; SUM=1+2+3+6=12 ; 12/2=6 SO IS PERFECT\n",
    "\n",
    "number=int(input(\"Enter the number: \"))\n",
    "result=0\n",
    "for i in range(1,number):\n",
    "    if(number%i==0):\n",
    "        result=result+i\n",
    "if(result==number):\n",
    "    print(\"The number is a perfect number\",number)\n",
    "else:\n",
    "    print(\"The number is not a perfect number\",number)\n",
    "        "
   ]
  },
  {
   "cell_type": "code",
   "execution_count": 1,
   "metadata": {},
   "outputs": [
    {
     "name": "stdout",
     "output_type": "stream",
     "text": [
      "Enter the lower limit :1\n",
      "Enter the upper limit: 100\n",
      "6 28 "
     ]
    }
   ],
   "source": [
    "#Perfect number in an interval\n",
    "lower_limit=int(input(\"Enter the lower limit :\"))\n",
    "upper_limit=int(input(\"Enter the upper limit: \"))\n",
    "for num in range(lower_limit,upper_limit+1):\n",
    "    result=0\n",
    "    for j in range(1,num):\n",
    "        if(num%j==0):\n",
    "            result=result+j\n",
    "    if(num==result):\n",
    "        print(num,end=\" \")"
   ]
  },
  {
   "cell_type": "code",
   "execution_count": 2,
   "metadata": {},
   "outputs": [],
   "source": [
    "#Swapping numbers: \n",
    "\n",
    "#Method 1 : Using 3rd variable\n",
    "\n",
    "#input: \n",
    "#a=10\n",
    "#b=5\n",
    "\n",
    "#procedure:\n",
    "#temp=a #(10=10)\n",
    "#a=b  #(5=5)\n",
    "#b=temp #(10=10)\n",
    "\n",
    "#output:\n",
    "#a=5\n",
    "#b=10\n"
   ]
  },
  {
   "cell_type": "code",
   "execution_count": 5,
   "metadata": {},
   "outputs": [
    {
     "name": "stdout",
     "output_type": "stream",
     "text": [
      "5\n",
      "5\n"
     ]
    }
   ],
   "source": [
    "#NOT HAPPENS\n",
    "a=10\n",
    "b=5\n",
    "a=b\n",
    "print(a)\n",
    "b=a\n",
    "print(b)"
   ]
  },
  {
   "cell_type": "code",
   "execution_count": 6,
   "metadata": {},
   "outputs": [
    {
     "name": "stdout",
     "output_type": "stream",
     "text": [
      "Enter the value of a :10\n",
      "Enter the value of b :5\n",
      "after swapping :\n",
      "Value of a: 5\n",
      "Value of b: 10\n"
     ]
    }
   ],
   "source": [
    "#CODE: Method 1\n",
    "a=int(input(\"Enter the value of a :\"))\n",
    "b=int(input(\"Enter the value of b :\"))\n",
    "temp=a\n",
    "a=b\n",
    "b=temp\n",
    "print(\"after swapping :\")\n",
    "print(\"Value of a:\",a)\n",
    "print(\"Value of b:\",b)"
   ]
  },
  {
   "cell_type": "code",
   "execution_count": 7,
   "metadata": {},
   "outputs": [],
   "source": [
    "#CODE : Method:2 ADD SUBSTRACT VALUE.\n",
    "\n",
    "#INPUT:\n",
    "#a=10\n",
    "#b=5\n",
    "\n",
    "#Process:\n",
    "#a=a+b\n",
    "#b=a-b\n",
    "#a=a-b\n",
    "\n",
    "#Output:\n",
    "#a=5\n",
    "#b=10"
   ]
  },
  {
   "cell_type": "code",
   "execution_count": 8,
   "metadata": {},
   "outputs": [
    {
     "name": "stdout",
     "output_type": "stream",
     "text": [
      "Enter the value for a :10\n",
      "Enter the value for b :5\n",
      "After Swapping\n",
      "Value of a 5\n",
      "Value of b 10\n"
     ]
    }
   ],
   "source": [
    "#Code :\n",
    "a=int(input(\"Enter the value for a :\"))\n",
    "b=int(input(\"Enter the value for b :\"))\n",
    "a=a+b\n",
    "b=a-b\n",
    "a=a-b\n",
    "print(\"After Swapping\")\n",
    "print(\"Value of a\",a)\n",
    "print(\"Value of b\",b)"
   ]
  },
  {
   "cell_type": "code",
   "execution_count": 11,
   "metadata": {},
   "outputs": [
    {
     "name": "stdout",
     "output_type": "stream",
     "text": [
      "Enter the number of rows :10\n",
      "* \n",
      "* * \n",
      "* * * \n",
      "* * * * \n",
      "* * * * * \n",
      "* * * * * * \n",
      "* * * * * * * \n",
      "* * * * * * * * \n",
      "* * * * * * * * * \n",
      "* * * * * * * * * * \n"
     ]
    }
   ],
   "source": [
    "#Pattern using while loop print stars in right triangle \n",
    "n=int(input(\"Enter the number of rows :\"))\n",
    "row=0\n",
    "while(row<n):\n",
    "    star=row+1 #how many stars in each row\n",
    "    while(star>0):\n",
    "        print(\"*\",end=\" \")\n",
    "        star=star-1\n",
    "    row=row+1\n",
    "    print()\n",
    "    \n",
    "    "
   ]
  },
  {
   "cell_type": "code",
   "execution_count": 12,
   "metadata": {},
   "outputs": [
    {
     "name": "stdout",
     "output_type": "stream",
     "text": [
      "Enter the number of rows: 10\n",
      "         * \n",
      "        * * \n",
      "       * * * \n",
      "      * * * * \n",
      "     * * * * * \n",
      "    * * * * * * \n",
      "   * * * * * * * \n",
      "  * * * * * * * * \n",
      " * * * * * * * * * \n",
      "* * * * * * * * * * \n"
     ]
    }
   ],
   "source": [
    "#Print stars in triangle using while loop\n",
    "num=int(input(\"Enter the number of rows: \"))\n",
    "row=0\n",
    "while(row<num):\n",
    "    space=num-row-1 # TO PRINT SPACE \n",
    "    while(space>0):\n",
    "        print(end=\" \")\n",
    "        space=space-1\n",
    "    star=row+1\n",
    "    while(star>0): # TO PRINT STAR\n",
    "        print(\"*\",end=\" \")\n",
    "        star=star-1\n",
    "    row=row+1\n",
    "    print()\n",
    "        "
   ]
  },
  {
   "cell_type": "code",
   "execution_count": 13,
   "metadata": {},
   "outputs": [
    {
     "name": "stdout",
     "output_type": "stream",
     "text": [
      "  *  \n",
      " * * \n",
      "*   *\n",
      " * * \n",
      "  *  \n"
     ]
    }
   ],
   "source": [
    "#PRINT STARS IN HALLOW DIAMOND SHAPE.\n",
    "for row in range(5):\n",
    "    for col in range(5):\n",
    "        if(row+col==2 or col-row==2 or row-col==2 or row+col==6):#To print star \n",
    "            print(\"*\",end=\"\") #to keep condition in same line\n",
    "        else:\n",
    "            print(end=\" \")\n",
    "    print()"
   ]
  },
  {
   "cell_type": "code",
   "execution_count": 14,
   "metadata": {},
   "outputs": [
    {
     "name": "stdout",
     "output_type": "stream",
     "text": [
      "   *   \n",
      "  * *  \n",
      " *   * \n",
      "*     *\n",
      " *   * \n",
      "  * *  \n",
      "   *   \n"
     ]
    }
   ],
   "source": [
    "#PRINT STARS IN HALLOW DIAMOND SHAPE.\n",
    "for row in range(7):\n",
    "    for col in range(7):\n",
    "        if(row+col==3 or col-row==3 or row-col==3 or row+col==9):#To print star \n",
    "            print(\"*\",end=\"\") #to keep condition in same line\n",
    "        else:\n",
    "            print(end=\" \")\n",
    "    print()"
   ]
  },
  {
   "cell_type": "code",
   "execution_count": 17,
   "metadata": {},
   "outputs": [
    {
     "name": "stdout",
     "output_type": "stream",
     "text": [
      "Enter the string: isaiah\n",
      "ENTERED STRING isaiah\n",
      "reversed string is : haiasi\n",
      "haiasi\n"
     ]
    }
   ],
   "source": [
    "#REVERSE A STRING USING FOR LOOP:\n",
    "string=str(input(\"Enter the string: \"))\n",
    "def reverse(string):\n",
    "    reversed_string=\"\"\n",
    "    for i in string:\n",
    "        reversed_string=i+reversed_string\n",
    "    print(\"reversed string is :\",reversed_string)\n",
    "    return reversed_string\n",
    "print(\"ENTERED STRING\",string)\n",
    "\n",
    "print(reverse(string))"
   ]
  },
  {
   "cell_type": "code",
   "execution_count": 15,
   "metadata": {},
   "outputs": [
    {
     "name": "stdout",
     "output_type": "stream",
     "text": [
      "enter the number of rows :5\n",
      "1\t2\t3\t4\t5\t\n",
      "16\t17\t18\t19\t6\t\n",
      "15\t24\t25\t20\t7\t\n",
      "14\t23\t22\t21\t8\t\n",
      "13\t12\t11\t10\t9\t\n"
     ]
    }
   ],
   "source": [
    "#PRINTING NUMBERS IN SQUARE SHAPE:\n",
    "#HERE NO OF ROWS= NO OF COLUMNS\n",
    "#LAST NUMBER IS SQUARE OF (ROWS) EX:5 (5**2=25)\n",
    "# USER INPUT FUNCTION.\n",
    "#we use nested list over here\n",
    "\n",
    "num=int(input(\"enter the number of rows :\"))\n",
    "n_list=[[0 for x in range(num)] for y in range(num)]\n",
    "n=1\n",
    "low=0 #INCREMENT LOW VALUE AND DECREMENT HIGH VALUE.\n",
    "high=num-1\n",
    "count=int((num+1)/2)\n",
    "\n",
    "\n",
    "for i in range(count): #3 times we print the outer square\n",
    "    for j in range(low,high+1):\n",
    "        n_list[i][j]=n\n",
    "        n=n+1       \n",
    "    for j in range(low+1,high+1):\n",
    "        n_list[j][high]=n\n",
    "        n=n+1\n",
    "    for j in range(high-1,low-1,-1):\n",
    "        n_list[high][j]=n\n",
    "        n=n+1\n",
    "    for j in range(high-1,low,-1):\n",
    "        n_list[j][low]=n\n",
    "        n=n+1\n",
    "    low=low+1\n",
    "    high=high-1\n",
    "    \n",
    "for i in range(num):  #FOR THE PRINT FORMAT IN SQUARE\n",
    "    for j in range(num):\n",
    "        print(n_list[i][j],end=\"\\t\")\n",
    "    print()"
   ]
  },
  {
   "cell_type": "code",
   "execution_count": null,
   "metadata": {},
   "outputs": [],
   "source": [
    "#PROGRAM TO FIND GCD OF TWO NUMBERS: OR H.C.F\n",
    "#GREATEST NUMBER THAT DIVIDES TWO NUMBERS COMPLETELY\n",
    "#EX: 12, 14 I.E GREATEST COMMON NUMBER 2\n",
    "#MULTIPLES OF 12--1 2 3 4 6---COMMON   1,2 (GREATEST G.C.D 2)\n",
    "#MULTIPLES OF 14--1 2 7-------NUMBERS\n",
    "\n",
    "\n",
    "#EUCLIDEAN ALGORITHUM: MUCH EASY COMPARED TO MANUAL.\n",
    "#EX: 2 NUMBERS 64, 48\n",
    "#64=48*X+REMAINDER\n",
    "#64=48*1+16\n",
    "#48=16*3+0\n",
    "#16=0 (THEN ITS THE G.C.D OF TWO NUMBERS)\n"
   ]
  },
  {
   "cell_type": "code",
   "execution_count": 25,
   "metadata": {},
   "outputs": [
    {
     "data": {
      "text/plain": [
       "2"
      ]
     },
     "execution_count": 25,
     "metadata": {},
     "output_type": "execute_result"
    }
   ],
   "source": [
    "#METHODS MATH LIBRARY\n",
    "import math\n",
    "math.gcd(4,18)"
   ]
  },
  {
   "cell_type": "code",
   "execution_count": 27,
   "metadata": {},
   "outputs": [
    {
     "data": {
      "text/plain": [
       "10"
      ]
     },
     "execution_count": 27,
     "metadata": {},
     "output_type": "execute_result"
    }
   ],
   "source": [
    "math.gcd(20,10)"
   ]
  },
  {
   "cell_type": "code",
   "execution_count": 29,
   "metadata": {},
   "outputs": [
    {
     "name": "stdout",
     "output_type": "stream",
     "text": [
      "Enter the first number10\n",
      "Enter the second number12\n",
      "2\n"
     ]
    }
   ],
   "source": [
    "#G.C.D FUNCTION\n",
    "def ComputeGCD(a,b):\n",
    "    if(b==0):\n",
    "        return a\n",
    "    else:\n",
    "        return ComputeGCD(b,a%b)\n",
    "num1=int(input(\"Enter the first number :\"))\n",
    "num2=int(input(\"Enter the second number: \"))\n",
    "\n",
    "print(ComputeGCD(num1,num2))"
   ]
  },
  {
   "cell_type": "code",
   "execution_count": 37,
   "metadata": {},
   "outputs": [
    {
     "name": "stdout",
     "output_type": "stream",
     "text": [
      "Enter the number of rows: 10\n",
      "         1\n",
      "        212\n",
      "       32123\n",
      "      4321234\n",
      "     543212345\n",
      "    65432123456\n",
      "   7654321234567\n",
      "  876543212345678\n",
      " 98765432123456789\n",
      "109876543212345678910\n"
     ]
    }
   ],
   "source": [
    "#PATTERN PROGRAM NUMBERS IN PYRAMID SHAPE\n",
    "n=int(input(\"Enter the number of rows: \"))\n",
    "for i in range(1,n+1):\n",
    "    for j in range(1,n-i+1):\n",
    "        print(end=\" \")\n",
    "    for j in range(i,0,-1):\n",
    "        print(j,end=\"\")\n",
    "    for j in range(2,i+1):\n",
    "        print(j,end=\"\")\n",
    "    print()\n",
    "        "
   ]
  },
  {
   "cell_type": "code",
   "execution_count": null,
   "metadata": {},
   "outputs": [],
   "source": [
    "#USING FORMAT FUNCTION.\n",
    "\n",
    "#SYNTAX: format(value,format_specifiers)"
   ]
  },
  {
   "cell_type": "code",
   "execution_count": 6,
   "metadata": {},
   "outputs": [
    {
     "name": "stdout",
     "output_type": "stream",
     "text": [
      "Enter the number of rows: 5\n",
      "1 \n",
      "2 3 \n",
      "4 5 6 \n",
      "7 8 9 10 \n",
      "11 12 13 14 15 \n"
     ]
    }
   ],
   "source": [
    "#Pattern formation (NOT RIGHT ANGLE TRAINGLE)\n",
    "num=int(input(\"Enter the number of rows: \"))\n",
    "n=1\n",
    "for i in range(num):\n",
    "    for j in range(i+1):\n",
    "        print(n,end=\" \")\n",
    "        n=n+1\n",
    "    print()"
   ]
  },
  {
   "cell_type": "code",
   "execution_count": 43,
   "metadata": {},
   "outputs": [
    {
     "name": "stdout",
     "output_type": "stream",
     "text": [
      "Enter the number of rows: 5\n",
      "1   \n",
      "2   3   \n",
      "4   5   6   \n",
      "7   8   9   10  \n",
      "11  12  13  14  15  \n"
     ]
    }
   ],
   "source": [
    "#Pattern formation (IN RIGHT ANGLE TRAINGLE)\n",
    "num=int(input(\"Enter the number of rows: \"))\n",
    "n=1\n",
    "for i in range(num):\n",
    "    for j in range(i+1):\n",
    "        print(format(n,\"<4\"),end=\"\")\n",
    "        n=n+1\n",
    "    print()"
   ]
  },
  {
   "cell_type": "code",
   "execution_count": 48,
   "metadata": {},
   "outputs": [
    {
     "name": "stdout",
     "output_type": "stream",
     "text": [
      "Enter the number of rows :11\n",
      "          1\n",
      "         212\n",
      "        32123\n",
      "       4321234\n",
      "      543212345\n",
      "     65432123456\n",
      "    7654321234567\n",
      "   876543212345678\n",
      "  98765432123456789\n",
      " 109876543212345678910\n",
      "1110987654321234567891011\n"
     ]
    }
   ],
   "source": [
    "num=int(input(\"Enter the number of rows :\")) #NOT PROPER PYRAMID SHAPE.\n",
    "for i in range(1,num+1):\n",
    "    for j in range(1,num-i+1):\n",
    "        print(end=\" \")\n",
    "    for j in range(i,0,-1):\n",
    "        print(j,end=\"\")\n",
    "    for j in range(2,i+1):\n",
    "        print(j,end=\"\")\n",
    "    print()"
   ]
  },
  {
   "cell_type": "code",
   "execution_count": 49,
   "metadata": {},
   "outputs": [
    {
     "name": "stdout",
     "output_type": "stream",
     "text": [
      "Enter the number of rows :11\n",
      "                              1  \n",
      "                           2  1  2  \n",
      "                        3  2  1  2  3  \n",
      "                     4  3  2  1  2  3  4  \n",
      "                  5  4  3  2  1  2  3  4  5  \n",
      "               6  5  4  3  2  1  2  3  4  5  6  \n",
      "            7  6  5  4  3  2  1  2  3  4  5  6  7  \n",
      "         8  7  6  5  4  3  2  1  2  3  4  5  6  7  8  \n",
      "      9  8  7  6  5  4  3  2  1  2  3  4  5  6  7  8  9  \n",
      "   10 9  8  7  6  5  4  3  2  1  2  3  4  5  6  7  8  9  10 \n",
      "11 10 9  8  7  6  5  4  3  2  1  2  3  4  5  6  7  8  9  10 11 \n"
     ]
    }
   ],
   "source": [
    "num=int(input(\"Enter the number of rows :\")) # PROPER PYRAMID SHAPE.\n",
    "for i in range(1,num+1):\n",
    "    for j in range(1,num-i+1):\n",
    "        print(format(\" \",\"<3\"),end=\"\")\n",
    "    for j in range(i,0,-1):\n",
    "        print(format(j,\"<3\"),end=\"\")\n",
    "    for j in range(2,i+1):\n",
    "        print(format(j,\"<3\"),end=\"\")\n",
    "    print()"
   ]
  },
  {
   "cell_type": "code",
   "execution_count": 1,
   "metadata": {},
   "outputs": [
    {
     "name": "stdout",
     "output_type": "stream",
     "text": [
      "Enter the number of rows: 5\n",
      "    1 \n",
      "   2 3 \n",
      "  4 5 6 \n",
      " 7 8 9 10 \n",
      "11 12 13 14 15 \n"
     ]
    }
   ],
   "source": [
    "num=int(input(\"Enter the number of rows: \")) #NOT PROPER pyramid.\n",
    "n=1\n",
    "for i in range(num):\n",
    "    for j in range(num-i-1):\n",
    "        print(end=\" \")\n",
    "    for j in range(i+1):\n",
    "        print(n,end=\" \") #DOUBLE OF ABOVE THEN WE GET PYRAMID.\n",
    "        n=n+1\n",
    "    print()"
   ]
  },
  {
   "cell_type": "code",
   "execution_count": 4,
   "metadata": {},
   "outputs": [
    {
     "name": "stdout",
     "output_type": "stream",
     "text": [
      "Enter the number of rows: 5\n",
      "            1  \n",
      "         2  3  \n",
      "      4  5  6  \n",
      "   7  8  9  10 \n",
      "11 12 13 14 15 \n"
     ]
    }
   ],
   "source": [
    "num=int(input(\"Enter the number of rows: \")) #NOT PROPER ONE WE GOT\n",
    "n=1\n",
    "for i in range(num):\n",
    "    for j in range(num-i-1):\n",
    "        print(format(\" \",\"<3\"),end=\"\")\n",
    "    for j in range(i+1):\n",
    "        print(format(n,\"<3\"),end=\"\") #DOUBLE OF ABOVE THEN WE GET PYRAMID.\n",
    "        n=n+1\n",
    "    print()"
   ]
  },
  {
   "cell_type": "code",
   "execution_count": 3,
   "metadata": {},
   "outputs": [
    {
     "name": "stdout",
     "output_type": "stream",
     "text": [
      "Enter the number of rows: 5\n",
      "            1     \n",
      "         2     3     \n",
      "      4     5     6     \n",
      "   7     8     9     10    \n",
      "11    12    13    14    15    \n"
     ]
    }
   ],
   "source": [
    "num=int(input(\"Enter the number of rows: \")) #wanted pyramid.(PROPER ONE WE GOT)\n",
    "n=1\n",
    "for i in range(num):\n",
    "    for j in range(num-i-1):\n",
    "        print(format(\" \",\"<3\"),end=\"\")\n",
    "    for j in range(i+1):\n",
    "        print(format(n,\"<6\"),end=\"\") #DOUBLE OF ABOVE THEN WE GET PYRAMID.\n",
    "        n=n+1\n",
    "    print()"
   ]
  },
  {
   "cell_type": "code",
   "execution_count": 5,
   "metadata": {},
   "outputs": [],
   "source": [
    "#SELECTION SORT ALGORITHUM : in place comparison based algorithum\n",
    "\n",
    "#sort():built in list function\n",
    "#sorted():Built in function\n",
    "\n",
    "#[5,15,3,12,17,0]"
   ]
  },
  {
   "cell_type": "code",
   "execution_count": null,
   "metadata": {},
   "outputs": [],
   "source": [
    "#selection sort :\n",
    "\n",
    "#for ascending(minimum value)\n",
    "#for decending(max value)\n",
    "\n",
    "#step1: search the List and find out minimum or maximum  value:\n",
    "#Step2 :Take the first value as minimum value and compare with next value\n",
    "            #1)if the next value is bigger than present value do nothing\n",
    "            #2)if the next value is smaller then change it as minimum\n",
    "               #it  becomes new minimum value until the end.\n",
    "            \n",
    "#step3 : AFTER GETTING THE SMALLEST VALUE SWAP it to the zero index\n",
    "        #so here we have 2 parts of the list one is sorted\n",
    "        #first value in zero index which we swapped is sorted and rest remaining\n",
    "        #unsorted.\n",
    "        \n",
    "#step4 : repeat steps 1,2,3 do the same process until the list is sorted"
   ]
  },
  {
   "cell_type": "code",
   "execution_count": 12,
   "metadata": {},
   "outputs": [
    {
     "name": "stdout",
     "output_type": "stream",
     "text": [
      "[0, 3, 2, 78, 6, 56]\n",
      "[0, 2, 3, 78, 6, 56]\n",
      "[0, 2, 3, 78, 6, 56]\n",
      "[0, 2, 3, 6, 78, 56]\n",
      "[0, 2, 3, 6, 56, 78]\n"
     ]
    }
   ],
   "source": [
    "# Selection Sort  For Non Duplicate Values\n",
    "list1=[56,3,2,78,6,0]\n",
    "for i in range(len(list1)-1): #For last element no need to check\n",
    "    min_val=min(list1[i:])\n",
    "    min_ind=list1.index(min_val)\n",
    "    list1[i],list1[min_ind]=list1[min_ind],list1[i]\n",
    "    print(list1)"
   ]
  },
  {
   "cell_type": "code",
   "execution_count": 13,
   "metadata": {},
   "outputs": [
    {
     "name": "stdout",
     "output_type": "stream",
     "text": [
      "unsorted list [56, 0, 2, 2, 6, 0]\n",
      "[0, 56, 2, 2, 6, 0]\n",
      "[0, 0, 2, 2, 6, 56]\n",
      "[0, 0, 2, 2, 6, 56]\n",
      "[0, 0, 2, 2, 6, 56]\n",
      "[0, 0, 2, 2, 6, 56]\n"
     ]
    }
   ],
   "source": [
    "list1=[56,0,2,2,6,0]#for Duplicate values\n",
    "print(\"unsorted list\",list1)\n",
    "for i in range(len(list1)-1):\n",
    "    min_val=min(list1[i:])\n",
    "    min_ind=list1.index(min_val,i)\n",
    "    list1[i],list1[min_ind]=list1[min_ind],list1[i]\n",
    "    print(list1)"
   ]
  },
  {
   "cell_type": "code",
   "execution_count": 17,
   "metadata": {},
   "outputs": [
    {
     "name": "stdout",
     "output_type": "stream",
     "text": [
      "unsorted list [34, 5, 6, 81, 0, 5]\n",
      "[0, 5, 5, 6, 34, 81]\n"
     ]
    }
   ],
   "source": [
    "#selection sort for user input data.\n",
    "#without using min or max\n",
    "\n",
    "#FOR ASCENDING ORDER:\n",
    "list1=[34,5,6,81,0,5]\n",
    "print(\"unsorted list\",list1)\n",
    "for i in range(len(list1)-1):\n",
    "    m_val=list1[i]\n",
    "    for j in range(i+1,len(list1)):\n",
    "        if(list1[j]<m_val): \n",
    "            m_val=list1[j]\n",
    "    m_ind=list1.index(m_val,i)\n",
    "    if(list1[i]!=list1[m_ind]):\n",
    "        list1[i],list1[m_ind]=list1[m_ind],list1[i]\n",
    "print(list1)\n",
    "\n",
    "\n"
   ]
  },
  {
   "cell_type": "code",
   "execution_count": 18,
   "metadata": {},
   "outputs": [
    {
     "name": "stdout",
     "output_type": "stream",
     "text": [
      "unsorted list [34, 5, 6, 81, 0, 5]\n",
      "[81, 34, 6, 5, 5, 0]\n"
     ]
    }
   ],
   "source": [
    "#FOR Desending ORDER:\n",
    "list1=[34,5,6,81,0,5]\n",
    "print(\"unsorted list\",list1)\n",
    "\n",
    "for i in range(len(list1)-1):\n",
    "    m_val=list1[i]\n",
    "    for j in range(i+1,len(list1)):\n",
    "        if(list1[j]>m_val): \n",
    "            m_val=list1[j]\n",
    "    m_ind=list1.index(m_val,i)\n",
    "    if(list1[i]!=list1[m_ind]):\n",
    "        list1[i],list1[m_ind]=list1[m_ind],list1[i]\n",
    "print(list1)\n",
    "            "
   ]
  },
  {
   "cell_type": "code",
   "execution_count": 22,
   "metadata": {},
   "outputs": [
    {
     "name": "stdout",
     "output_type": "stream",
     "text": [
      "unsorted list [34, 5, 6, 81, 0, 5]\n",
      "[81, 34, 5, 0, 6, 5]\n"
     ]
    }
   ],
   "source": [
    "#Without using the index method\n",
    "#FOR Desending ORDER:\n",
    "list1=[34,5,6,81,0,5]\n",
    "print(\"unsorted list\",list1)\n",
    "\n",
    "for i in range(len(list1)-1):\n",
    "    m_val=i\n",
    "    for j in range(i+1,len(list1)):\n",
    "        if(list1[j]>list1[m_ind]): \n",
    "            m_ind=j\n",
    "    if(list1[i]!=list1[m_ind]):\n",
    "        list1[i],list1[m_ind]=list1[m_ind],list1[i]\n",
    "print(list1)"
   ]
  },
  {
   "cell_type": "code",
   "execution_count": 21,
   "metadata": {},
   "outputs": [
    {
     "name": "stdout",
     "output_type": "stream",
     "text": [
      "unsorted list [34, 5, 6, 81, 0, 5]\n",
      "[0, 5, 5, 6, 81, 34]\n"
     ]
    }
   ],
   "source": [
    "#Without using the index method\n",
    "#FOR Aesending ORDER:\n",
    "list1=[34,5,6,81,0,5]\n",
    "print(\"unsorted list\",list1)\n",
    "\n",
    "for i in range(len(list1)-1):\n",
    "    m_val=i\n",
    "    for j in range(i+1,len(list1)):\n",
    "        if(list1[j]<list1[m_ind]): \n",
    "            m_ind=j\n",
    "    if(list1[i]!=list1[m_ind]):\n",
    "        list1[i],list1[m_ind]=list1[m_ind],list1[i]\n",
    "print(list1)"
   ]
  },
  {
   "cell_type": "code",
   "execution_count": 23,
   "metadata": {},
   "outputs": [
    {
     "name": "stdout",
     "output_type": "stream",
     "text": [
      "how many numbers you want to enter?:8\n",
      "1 \n",
      "23\n",
      "65\n",
      "86\n",
      "453\n",
      "1\n",
      "6\n",
      "6545\n",
      "unsorted list [1, 23, 65, 86, 453, 1, 6, 6545]\n",
      "[1, 1, 6, 23, 65, 453, 86, 6545]\n"
     ]
    }
   ],
   "source": [
    "#Without using the index method\n",
    "#FOR Aesending ORDER:\n",
    "num=int(input(\"how many numbers you want to enter?:\"))\n",
    "list1=[int(input()) for x in range(num)]\n",
    "print(\"unsorted list\",list1)\n",
    "\n",
    "for i in range(len(list1)-1):\n",
    "    m_val=i\n",
    "    for j in range(i+1,len(list1)):\n",
    "        if(list1[j]<list1[m_ind]): \n",
    "            m_ind=j\n",
    "    if(list1[i]!=list1[m_ind]):\n",
    "        list1[i],list1[m_ind]=list1[m_ind],list1[i]\n",
    "print(list1)"
   ]
  },
  {
   "cell_type": "code",
   "execution_count": 24,
   "metadata": {},
   "outputs": [],
   "source": [
    "#BUBBLE SORT OR SINKING SORT\n",
    "#WHICH SORTS N NUMBER OF ELEMENTS IN THE LIST BY COMPARING THE \n",
    "#EACH PAIR  OF ADJACENT ITEMS AND SWAPS THEM IF THEY ARE IN WRONG ORDER\n",
    "\n",
    "#FOR ASCENDING\n",
    "#STEP1:STARTING WITH THE FIRST ELEMENT(INDEX=0) COMPARE THE CURRENT\n",
    "#ELEMENT WITH THE NEXT ELEMENT OF THE LIST\n",
    "\n",
    "#STEP2:IF THE CURRENT ELEMENT IS GREATER THAN THE NEXT ELEMENT OF THE LIST\n",
    "#SWAP THEM\n",
    "\n",
    "#STEP3:IF THE CURRENT ELEMENT IS LESS THAN THE NEXT ELEMENT,MOVE TO THE NEXT ELEMENT\n",
    "#REPEAT STEP1.\n"
   ]
  },
  {
   "cell_type": "code",
   "execution_count": 26,
   "metadata": {},
   "outputs": [
    {
     "name": "stdout",
     "output_type": "stream",
     "text": [
      "unsorted list: [10, 15, 4, 23, 0]\n",
      "[10, 15, 4, 23, 0]\n",
      "\n",
      "[10, 4, 15, 23, 0]\n",
      "\n",
      "[10, 4, 15, 23, 0]\n",
      "\n",
      "[10, 4, 15, 0, 23]\n",
      "\n",
      "[4, 10, 15, 0, 23]\n",
      "\n",
      "[4, 10, 15, 0, 23]\n",
      "\n",
      "[4, 10, 0, 15, 23]\n",
      "\n",
      "[4, 10, 0, 15, 23]\n",
      "\n",
      "[4, 0, 10, 15, 23]\n",
      "\n",
      "[0, 4, 10, 15, 23]\n",
      "\n",
      "sorted list: [0, 4, 10, 15, 23]\n"
     ]
    }
   ],
   "source": [
    "List1=[10,15,4,23,0]\n",
    "print(\"unsorted list:\",List1)\n",
    "for j in range(len(List1)-1):\n",
    "    for i in range(len(List1)-1-j):\n",
    "        if List1[i]>List1[i+1]:\n",
    "            List1[i],List1[i+1]=List1[i+1],List1[i]\n",
    "            print(List1)\n",
    "        else:\n",
    "            print(List1)\n",
    "        print()\n",
    "print(\"sorted list:\",List1)\n"
   ]
  },
  {
   "cell_type": "code",
   "execution_count": 28,
   "metadata": {},
   "outputs": [
    {
     "name": "stdout",
     "output_type": "stream",
     "text": [
      "HOW MANY NUMBERS YOU WANT TO ENTER:10\n",
      "Enter the values\n",
      "1 \n",
      "63\n",
      "63\n",
      "63\n",
      "63\n",
      "76\n",
      "736\n",
      "98765\n",
      "345678\n",
      "876\n",
      "unsorted list: [1, 63, 63, 63, 63, 76, 736, 98765, 345678, 876]\n",
      "[1, 63, 63, 63, 63, 76, 736, 98765, 345678, 876]\n",
      "\n",
      "[1, 63, 63, 63, 63, 76, 736, 98765, 345678, 876]\n",
      "\n",
      "[1, 63, 63, 63, 63, 76, 736, 98765, 345678, 876]\n",
      "\n",
      "[1, 63, 63, 63, 63, 76, 736, 98765, 345678, 876]\n",
      "\n",
      "[1, 63, 63, 63, 63, 76, 736, 98765, 345678, 876]\n",
      "\n",
      "[1, 63, 63, 63, 63, 76, 736, 98765, 345678, 876]\n",
      "\n",
      "[1, 63, 63, 63, 63, 76, 736, 98765, 345678, 876]\n",
      "\n",
      "[1, 63, 63, 63, 63, 76, 736, 98765, 345678, 876]\n",
      "\n",
      "[1, 63, 63, 63, 63, 76, 736, 98765, 876, 345678]\n",
      "\n",
      "[1, 63, 63, 63, 63, 76, 736, 98765, 876, 345678]\n",
      "\n",
      "[1, 63, 63, 63, 63, 76, 736, 98765, 876, 345678]\n",
      "\n",
      "[1, 63, 63, 63, 63, 76, 736, 98765, 876, 345678]\n",
      "\n",
      "[1, 63, 63, 63, 63, 76, 736, 98765, 876, 345678]\n",
      "\n",
      "[1, 63, 63, 63, 63, 76, 736, 98765, 876, 345678]\n",
      "\n",
      "[1, 63, 63, 63, 63, 76, 736, 98765, 876, 345678]\n",
      "\n",
      "[1, 63, 63, 63, 63, 76, 736, 98765, 876, 345678]\n",
      "\n",
      "[1, 63, 63, 63, 63, 76, 736, 876, 98765, 345678]\n",
      "\n",
      "[1, 63, 63, 63, 63, 76, 736, 876, 98765, 345678]\n",
      "\n",
      "[1, 63, 63, 63, 63, 76, 736, 876, 98765, 345678]\n",
      "\n",
      "[1, 63, 63, 63, 63, 76, 736, 876, 98765, 345678]\n",
      "\n",
      "[1, 63, 63, 63, 63, 76, 736, 876, 98765, 345678]\n",
      "\n",
      "[1, 63, 63, 63, 63, 76, 736, 876, 98765, 345678]\n",
      "\n",
      "[1, 63, 63, 63, 63, 76, 736, 876, 98765, 345678]\n",
      "\n",
      "[1, 63, 63, 63, 63, 76, 736, 876, 98765, 345678]\n",
      "\n",
      "[1, 63, 63, 63, 63, 76, 736, 876, 98765, 345678]\n",
      "\n",
      "[1, 63, 63, 63, 63, 76, 736, 876, 98765, 345678]\n",
      "\n",
      "[1, 63, 63, 63, 63, 76, 736, 876, 98765, 345678]\n",
      "\n",
      "[1, 63, 63, 63, 63, 76, 736, 876, 98765, 345678]\n",
      "\n",
      "[1, 63, 63, 63, 63, 76, 736, 876, 98765, 345678]\n",
      "\n",
      "[1, 63, 63, 63, 63, 76, 736, 876, 98765, 345678]\n",
      "\n",
      "[1, 63, 63, 63, 63, 76, 736, 876, 98765, 345678]\n",
      "\n",
      "[1, 63, 63, 63, 63, 76, 736, 876, 98765, 345678]\n",
      "\n",
      "[1, 63, 63, 63, 63, 76, 736, 876, 98765, 345678]\n",
      "\n",
      "[1, 63, 63, 63, 63, 76, 736, 876, 98765, 345678]\n",
      "\n",
      "[1, 63, 63, 63, 63, 76, 736, 876, 98765, 345678]\n",
      "\n",
      "[1, 63, 63, 63, 63, 76, 736, 876, 98765, 345678]\n",
      "\n",
      "[1, 63, 63, 63, 63, 76, 736, 876, 98765, 345678]\n",
      "\n",
      "[1, 63, 63, 63, 63, 76, 736, 876, 98765, 345678]\n",
      "\n",
      "[1, 63, 63, 63, 63, 76, 736, 876, 98765, 345678]\n",
      "\n",
      "[1, 63, 63, 63, 63, 76, 736, 876, 98765, 345678]\n",
      "\n",
      "[1, 63, 63, 63, 63, 76, 736, 876, 98765, 345678]\n",
      "\n",
      "[1, 63, 63, 63, 63, 76, 736, 876, 98765, 345678]\n",
      "\n",
      "[1, 63, 63, 63, 63, 76, 736, 876, 98765, 345678]\n",
      "\n",
      "[1, 63, 63, 63, 63, 76, 736, 876, 98765, 345678]\n",
      "\n",
      "[1, 63, 63, 63, 63, 76, 736, 876, 98765, 345678]\n",
      "\n",
      "sorted list: [1, 63, 63, 63, 63, 76, 736, 876, 98765, 345678]\n"
     ]
    }
   ],
   "source": [
    "List1=[]\n",
    "num=int(input(\"HOW MANY NUMBERS YOU WANT TO ENTER:\"))\n",
    "print(\"Enter the values\")\n",
    "for k in range(num):\n",
    "    List1.append(int(input()))\n",
    "print(\"unsorted list:\",List1)\n",
    "for j in range(len(List1)-1,0,-1):\n",
    "    for i in range(j):\n",
    "        if List1[i]>List1[i+1]:\n",
    "            List1[i],List1[i+1]=List1[i+1],List1[i]\n",
    "            print(List1)\n",
    "        else:\n",
    "            print(List1)\n",
    "        print()\n",
    "print(\"sorted list:\",List1)"
   ]
  },
  {
   "cell_type": "code",
   "execution_count": 31,
   "metadata": {},
   "outputs": [
    {
     "name": "stdout",
     "output_type": "stream",
     "text": [
      "Enter the string :madam\n",
      "madam\n",
      "String is a palindrome\n"
     ]
    }
   ],
   "source": [
    "#ENTERED STRING OR NUMBER IS PALINDROME \n",
    "string=input(\"Enter the string :\")\n",
    "rev_string=string[::-1]\n",
    "print(rev_string)\n",
    "if(string==rev_string):\n",
    "    print(\"String is a palindrome\")\n",
    "else:\n",
    "    print(\"The string is not a palindrome\")"
   ]
  },
  {
   "cell_type": "code",
   "execution_count": 35,
   "metadata": {},
   "outputs": [
    {
     "name": "stdout",
     "output_type": "stream",
     "text": [
      "Enter the number :123\n",
      "reversed: 321\n",
      "The number  is not a palindrome\n"
     ]
    }
   ],
   "source": [
    "#ENTERED STRING OR NUMBER IS PALINDROME \n",
    "number=int(input(\"Enter the number :\"))\n",
    "string=str(number)\n",
    "rev_string=string[::-1]\n",
    "print(\"reversed:\",rev_string)\n",
    "if(string==rev_string):\n",
    "    print(\"Number is a palindrome\")\n",
    "else:\n",
    "    print(\"The number  is not a palindrome\")"
   ]
  },
  {
   "cell_type": "code",
   "execution_count": 36,
   "metadata": {},
   "outputs": [
    {
     "name": "stdout",
     "output_type": "stream",
     "text": [
      "Enter the number :1234\n",
      "Sum is  10\n"
     ]
    }
   ],
   "source": [
    "#Sum of digits of Positive integer number\n",
    "num=int(input(\"Enter the number :\"))\n",
    "result=0\n",
    "while num>0:\n",
    "    digit=num%10\n",
    "    result=result+digit\n",
    "    num=num//10\n",
    "print(\"Sum is \",result)"
   ]
  },
  {
   "cell_type": "code",
   "execution_count": 37,
   "metadata": {},
   "outputs": [
    {
     "name": "stdout",
     "output_type": "stream",
     "text": [
      "Enter the number :23432\n",
      "Sum is  14\n"
     ]
    }
   ],
   "source": [
    "#Sum of digits of Positive integer number\n",
    "num=int(input(\"Enter the number :\"))\n",
    "result=0\n",
    "for i in range(len(str(num))):\n",
    "    digit=num%10\n",
    "    result=result+digit\n",
    "    num=num//10\n",
    "print(\"Sum is \",result)"
   ]
  },
  {
   "cell_type": "code",
   "execution_count": 38,
   "metadata": {},
   "outputs": [],
   "source": [
    "#QUICK SORT OR PARTITION EXCHANGE SORT\n",
    "#2 TO 3 TIMES FASTER THAN MERGE SORT AND HEAP SORT\n",
    "\n",
    "#QUICK SORT: STEPS\n",
    "\n",
    "#COMPARISON SORT\n",
    "#IN_PLACE ALGORITHUM\n",
    "#UNSTABLE ALGORITHUM\n",
    "#RECURSIVE ALGORITHUM\n",
    "\n",
    "#DIVIDE AND CONQUER ALGORITHUM:\n",
    "#1.Divide\n",
    "#2.Conquer\n",
    "#3.Combine  #no combining. (in quick sort)\n",
    "\n",
    "#for Ascending order:\n",
    "#<smaller values><pivot><bigger value>\n",
    "\n",
    "#For Descending order:\n",
    "#<bigger values><pivot><smaller values>"
   ]
  },
  {
   "cell_type": "code",
   "execution_count": 39,
   "metadata": {},
   "outputs": [],
   "source": [
    "#PIVOT ELEMENT:\n",
    "#1.First element\n",
    "#2.Last Element\n",
    "#3.Rnadom element\n",
    "#4.Median of three values(first,middle,last)"
   ]
  },
  {
   "cell_type": "code",
   "execution_count": 40,
   "metadata": {},
   "outputs": [],
   "source": [
    "#Explanation:\n",
    "\n",
    "#a=[14,25,100,14,1,17](#here pivot is last)\n",
    "#1.left<=right indexes [ 0<=4 (True) ]\n",
    "#2.a[left]<=pivot #if true [a[0]<=pivot.Next..a[1]<=pivot ] next value if false stop []\n",
    "#3.a[right]>=pivot #if true next value else stop\n",
    "# when both stop left and right swap\n",
    "\n",
    "\n",
    "#Repeat the process and if left index value crosses the rightindex value its the right place of the pivot value.\n",
    "#Here if you take last value as pivot then swap left index and pivot\n",
    "#Here if you take first element as pivot then swap pivot and right index\n",
    "\n",
    "#HERE 17 IS SORTED BUT LEFT SIDE OF THE PIVOT VALUE ARE NOT SORTED\n",
    "#HERE 17 IS SORTED BUT RIGHT SIDE OF THE PIVOT VALUE IS NOT SORTED\n",
    "\n",
    "#NOW DIVIDE AND REPEAT ABOVE STEPS FOR THESE BELOW LIST\n",
    "#LEFT PART 14 1 14-----\n",
    "#RIGHT PART 25 100----"
   ]
  },
  {
   "cell_type": "code",
   "execution_count": 6,
   "metadata": {},
   "outputs": [
    {
     "name": "stdout",
     "output_type": "stream",
     "text": [
      "[17, 26, 31, 44, 56, 93]\n"
     ]
    }
   ],
   "source": [
    "#For ascending order:\n",
    "#to get the correct position of the pivot element\n",
    "def Pivot_place(list1,first,last):#Here we take first elemnt as the pivot value\n",
    "    pivot=list1[first]\n",
    "    left=first+1\n",
    "    right=last\n",
    "    while True:\n",
    "        while(left<=right and list1[left]<=pivot):\n",
    "            left=left+1\n",
    "        while(left<=right and list1[right]>=pivot):\n",
    "            right=right-1\n",
    "        if(right<left): #it gives right position of the pivot and swap\n",
    "            break\n",
    "        else:\n",
    "            list1[left],list1[right]=list1[right],list1[left]\n",
    "        #if left is less than right then swap left value and right value\n",
    "    list1[first],list1[right]=list1[right],list1[first]\n",
    "    return right\n",
    "def quicksort(list1,first,last):#DIVIDING THE LIST INTO TWO PARTS\n",
    "    if(first<last):\n",
    "        p=Pivot_place(list1,first,last)\n",
    "        quicksort(list1,first,p-1)\n",
    "        quicksort(list1,p+1,last)\n",
    "        \n",
    "list1=[56,26,93,17,31,44]\n",
    "n=len(list1)\n",
    "quicksort(list1,0,n-1)\n",
    "print(list1)"
   ]
  },
  {
   "cell_type": "code",
   "execution_count": 11,
   "metadata": {},
   "outputs": [
    {
     "name": "stdout",
     "output_type": "stream",
     "text": [
      "[93, 56, 44, 31, 26, 17]\n"
     ]
    }
   ],
   "source": [
    "#For Dscending order:\n",
    "#to get the correct position of the pivot element\n",
    "def Pivot_place(list1,first,last):#Here we take first elemnt as the pivot value\n",
    "    pivot=list1[first]\n",
    "    left=first+1\n",
    "    right=last\n",
    "    while True:\n",
    "        while(left<=right and list1[left]>=pivot):\n",
    "            left=left+1\n",
    "        while(left<=right and list1[right]<=pivot):\n",
    "            right=right-1\n",
    "        if(right<left): #it gives right position of the pivot and swap\n",
    "            break\n",
    "        else:\n",
    "            list1[left],list1[right]=list1[right],list1[left]\n",
    "        #if left is less than right then swap left value and right value\n",
    "    list1[first],list1[right]=list1[right],list1[first]\n",
    "    return right\n",
    "def quicksort(list1,first,last):#DIVIDING THE LIST INTO TWO PARTS\n",
    "    if(first<last):\n",
    "        p=Pivot_place(list1,first,last)\n",
    "        quicksort(list1,first,p-1)\n",
    "        quicksort(list1,p+1,last)\n",
    "        \n",
    "list1=[56,26,93,17,31,44]\n",
    "n=len(list1)\n",
    "quicksort(list1,0,n-1)\n",
    "print(list1)"
   ]
  },
  {
   "cell_type": "code",
   "execution_count": 12,
   "metadata": {},
   "outputs": [
    {
     "name": "stdout",
     "output_type": "stream",
     "text": [
      "[93, 56, 44, 31, 26, 17]\n"
     ]
    }
   ],
   "source": [
    "#Now we take last element as the pivot value.\n",
    "#For Dscending order:\n",
    "#to get the correct position of the pivot element\n",
    "def Pivot_place(list1,first,last):#Here we take first elemnt as the pivot value\n",
    "    pivot=list1[last]\n",
    "    left=first\n",
    "    right=last-1\n",
    "    while True:\n",
    "        while(left<=right and list1[left]>=pivot):\n",
    "            left=left+1\n",
    "        while(left<=right and list1[right]<=pivot):\n",
    "            right=right-1\n",
    "        if(right<left): #it gives right position of the pivot and swap\n",
    "            break\n",
    "        else:\n",
    "            list1[left],list1[right]=list1[right],list1[left]\n",
    "        #if left is less than right then swap left value and right value\n",
    "    list1[last],list1[left]=list1[left],list1[last]\n",
    "    return left\n",
    "\n",
    "def quicksort(list1,first,last):#DIVIDING THE LIST INTO TWO PARTS\n",
    "    if(first<last):\n",
    "        p=Pivot_place(list1,first,last)\n",
    "        quicksort(list1,first,p-1)\n",
    "        quicksort(list1,p+1,last)\n",
    "        \n",
    "list1=[56,26,93,17,31,44]\n",
    "n=len(list1)\n",
    "quicksort(list1,0,n-1)\n",
    "print(list1)"
   ]
  },
  {
   "cell_type": "code",
   "execution_count": 14,
   "metadata": {},
   "outputs": [
    {
     "name": "stdout",
     "output_type": "stream",
     "text": [
      "[93, 56, 44, 31, 26, 17]\n"
     ]
    }
   ],
   "source": [
    "#RANDOMIZED QUICK SORT\n",
    "import random\n",
    "def Pivot_place(list1,first,last):#Here we take last elemnt as the pivot value\n",
    "    rindex=random.randint(first,last)\n",
    "    list1[rindex],list1[last]=list1[last],list1[rindex]\n",
    "    pivot=list1[last]\n",
    "    left=first\n",
    "    right=last-1\n",
    "    while True:\n",
    "        while(left<=right and list1[left]>=pivot):\n",
    "            left=left+1\n",
    "        while(left<=right and list1[right]<=pivot):\n",
    "            right=right-1\n",
    "        if(right<left): #it gives right position of the pivot and swap\n",
    "            break\n",
    "        else:\n",
    "            list1[left],list1[right]=list1[right],list1[left]\n",
    "        #if left is less than right then swap left value and right value\n",
    "    list1[last],list1[left]=list1[left],list1[last]\n",
    "    return left\n",
    "\n",
    "def quicksort(list1,first,last):#DIVIDING THE LIST INTO TWO PARTS\n",
    "    if(first<last):\n",
    "        p=Pivot_place(list1,first,last)\n",
    "        quicksort(list1,first,p-1)\n",
    "        quicksort(list1,p+1,last)\n",
    "        \n",
    "list1=[56,26,93,17,31,44]\n",
    "n=len(list1)\n",
    "quicksort(list1,0,n-1)\n",
    "print(list1)"
   ]
  },
  {
   "cell_type": "code",
   "execution_count": 16,
   "metadata": {},
   "outputs": [
    {
     "name": "stdout",
     "output_type": "stream",
     "text": [
      "[93, 56, 44, 31, 26, 17]\n"
     ]
    }
   ],
   "source": [
    "#Median method as pivot\n",
    "import statistics\n",
    "def Pivot_place(list1,first,last):#Here we take last elemnt as the pivot value\n",
    "    low=list1[first]\n",
    "    high=list1[last]\n",
    "    mid=(first+last)//2\n",
    "    pivot_val=statistics.median([low,list1[mid],high])\n",
    "    if(pivot_val==low):\n",
    "        pindex=first\n",
    "    elif(pivot_val==high):\n",
    "        pindex=last\n",
    "    else:\n",
    "        pindex=mid\n",
    "    list1[last],list1[pindex]=list1[pindex],list1[last]        \n",
    "    pivot=list1[last]\n",
    "    left=first\n",
    "    right=last-1\n",
    "    while True:\n",
    "        while(left<=right and list1[left]>=pivot):\n",
    "            left=left+1\n",
    "        while(left<=right and list1[right]<=pivot):\n",
    "            right=right-1\n",
    "        if(right<left): #it gives right position of the pivot and swap\n",
    "            break\n",
    "        else:\n",
    "            list1[left],list1[right]=list1[right],list1[left]\n",
    "        #if left is less than right then swap left value and right value\n",
    "    list1[last],list1[left]=list1[left],list1[last]\n",
    "    return left\n",
    "\n",
    "def quicksort(list1,first,last):#DIVIDING THE LIST INTO TWO PARTS\n",
    "    if(first<last):\n",
    "        p=Pivot_place(list1,first,last)\n",
    "        quicksort(list1,first,p-1)\n",
    "        quicksort(list1,p+1,last)\n",
    "        \n",
    "list1=[56,26,93,17,31,44]\n",
    "n=len(list1)\n",
    "quicksort(list1,0,n-1)\n",
    "print(list1)"
   ]
  },
  {
   "cell_type": "code",
   "execution_count": 23,
   "metadata": {},
   "outputs": [
    {
     "name": "stdout",
     "output_type": "stream",
     "text": [
      "Enter the number:25\n",
      "reversed string: 52\n",
      "25 is not prime as well as it is not palindrome\n"
     ]
    }
   ],
   "source": [
    "#Palindromic prime numbers\n",
    "#A Number is Prime  and plaindrome its called palindromic prime\n",
    "num=int(input(\"Enter the number:\"))\n",
    "reverse=int(str(num)[::-1])\n",
    "print(\"reversed string:\",reverse)\n",
    "if(num==reverse):\n",
    "    if(num>1):\n",
    "        for i in range(2,num):\n",
    "            if(num%i==0):\n",
    "                print(num,\"is not prime number! but it is palindrome\")\n",
    "                break\n",
    "        else:\n",
    "            print(num,\"is palindrome prime number\")\n",
    "else:\n",
    "    if(num>1):\n",
    "        for i in range(2,num):\n",
    "            if(num%i==0):\n",
    "                print(num,\"is not prime as well as it is not palindrome\")\n",
    "                break\n",
    "        else:\n",
    "            print(num,\"is prime number but not palindrome!\")"
   ]
  },
  {
   "cell_type": "code",
   "execution_count": 3,
   "metadata": {},
   "outputs": [
    {
     "name": "stdout",
     "output_type": "stream",
     "text": [
      "Enter the lower_limit number:1\n",
      "Enter the upper_limit number700\n",
      "2\n",
      "3\n",
      "5\n",
      "7\n",
      "11\n",
      "101\n",
      "131\n",
      "151\n",
      "181\n",
      "191\n",
      "313\n",
      "353\n",
      "373\n",
      "383\n"
     ]
    }
   ],
   "source": [
    "#Palindromic prime numbers within range\n",
    "#A Number is Prime  and plaindrome its called palindromic prime\n",
    "lower_limit=int(input(\"Enter the lower_limit number:\"))\n",
    "upper_limit=int(input(\"Enter the upper_limit number\"))\n",
    "for num in range(lower_limit,upper_limit+1):\n",
    "    reverse=int(str(num)[::-1])\n",
    "    if(num==reverse):\n",
    "        if(num>1):\n",
    "            for i in range(2,num):\n",
    "                if(num%i==0):\n",
    "                    break\n",
    "            else:\n",
    "                print(num)\n"
   ]
  },
  {
   "cell_type": "code",
   "execution_count": 4,
   "metadata": {},
   "outputs": [
    {
     "name": "stdout",
     "output_type": "stream",
     "text": [
      "Enter the sentence :isaiah how are you\n",
      "isaiah how are you\n",
      "Number of vowels in the given string is : 9\n"
     ]
    }
   ],
   "source": [
    "#Program to count the vowels in given sentence\n",
    "sentence=input(\"Enter the sentence :\")\n",
    "string=sentence.lower()\n",
    "print(string)\n",
    "count=0\n",
    "list1=[\"a\",\"e\",\"i\",\"o\",\"u\"]\n",
    "for char in string:\n",
    "    if(char in list1):\n",
    "        count=count+1\n",
    "print(\"Number of vowels in the given string is :\",count)"
   ]
  },
  {
   "cell_type": "code",
   "execution_count": 9,
   "metadata": {},
   "outputs": [
    {
     "name": "stdout",
     "output_type": "stream",
     "text": [
      "[1, 2, 6]\n"
     ]
    }
   ],
   "source": [
    "#Program to print every index of duplicate elements in list\n",
    "list1=[\"amul\",1,1,2,3,1.4,1,6,4]\n",
    "list2=[i for i in range(len(list1)) if list1[i]==1]\n",
    "print(list2)"
   ]
  },
  {
   "cell_type": "code",
   "execution_count": 1,
   "metadata": {},
   "outputs": [
    {
     "name": "stdout",
     "output_type": "stream",
     "text": [
      "Enter the Number of elements you want in the list:5\n",
      "4567\n",
      "87678\n",
      "88727621\n",
      "872\n",
      "09\n",
      "[9, 872, 4567, 87678, 88727621]\n",
      "Enter the key:9\n",
      "key is Found\n",
      "Program executed and Binary search Performed !\n",
      "None\n"
     ]
    }
   ],
   "source": [
    "#Binary Search Program\n",
    "def BinarySearch(list1,key):\n",
    "    low=0\n",
    "    high=len(list1)-1\n",
    "    Found=False\n",
    "    while(low<=high and  not Found):\n",
    "        mid=(low+high)//2\n",
    "        if(key==list1[mid]):\n",
    "            Found=True\n",
    "        elif(key>list1[mid]):\n",
    "            low=mid+1\n",
    "        else:\n",
    "            high=mid-1\n",
    "    if(Found==True):\n",
    "        print(\"key is Found\")\n",
    "    else:\n",
    "        print(\"Key is not Found\")\n",
    "    print(\"Program executed and Binary search Performed !\")\n",
    "    return Found\n",
    "list1=[]\n",
    "num=int(input(\"Enter the Number of elements you want in the list:\"))\n",
    "for i in range(num):\n",
    "    list1.append(int(input()))    \n",
    "list1.sort()\n",
    "print(list1)\n",
    "key=int(input(\"Enter the key:\"))\n",
    "\n",
    "print(BinarySearch(list1,key))"
   ]
  },
  {
   "cell_type": "code",
   "execution_count": 3,
   "metadata": {},
   "outputs": [],
   "source": [
    "#ANAGRAM :\n",
    "#An Anagram of a string is an another string that contains same chracters only the order \n",
    "#of Characters can be different.\n",
    "\n",
    "#Ex: Heart and Earth  have same Characters  \n",
    "\n",
    "#Step1: Sorted string equal then they are Anagram.\n",
    "#STEP2:COMPARE STRINGS."
   ]
  },
  {
   "cell_type": "code",
   "execution_count": 4,
   "metadata": {},
   "outputs": [
    {
     "name": "stdout",
     "output_type": "stream",
     "text": [
      "Enter the String one:isaiah\n",
      "Enter the String two :isaiah\n",
      "The Given Strings are anagrams.!\n"
     ]
    }
   ],
   "source": [
    "#PROGRAM TO CHECK IT IS ANAGRAM.\n",
    "str1=input(\"Enter the String one:\")\n",
    "str2=input(\"Enter the String two :\")\n",
    "sorted_str1=sorted(str1)\n",
    "sorted_str2=sorted(str2)\n",
    "\n",
    "if(len(str1)==len(str2)):\n",
    "    if(sorted_str1==sorted_str2):\n",
    "        print(\"The Given Strings are anagrams.!\")\n",
    "    else:\n",
    "        print(\"The given strings are not anagrams.!\")"
   ]
  },
  {
   "cell_type": "code",
   "execution_count": 7,
   "metadata": {},
   "outputs": [
    {
     "name": "stdout",
     "output_type": "stream",
     "text": [
      "Enter the number 1 :2\n",
      "Enter the number 2 :3\n",
      "2 and 3 ARE CO PRIMES.\n"
     ]
    }
   ],
   "source": [
    "#To check given two integers are coprimes!\n",
    "#Co_PRIME: IF G.C.D OF TWO INTEGERS IS 1 THEN THEY ARE CO PRIMES.\n",
    "#EX: 2,3 [CO_PRIME]\n",
    "#NEED NOT BE PRIME NUMBERS TO BE CO PRIMES.\n",
    "from math import gcd\n",
    "num1=int(input(\"Enter the number 1 :\"))\n",
    "num2=int(input(\"Enter the number 2 :\"))\n",
    "if(gcd(num1,num2)==1):\n",
    "    print(num1,\"and\",num2,\"ARE CO PRIMES.\")\n",
    "else:\n",
    "    print(\"They are not co prime.\")"
   ]
  },
  {
   "cell_type": "code",
   "execution_count": 9,
   "metadata": {},
   "outputs": [
    {
     "name": "stdout",
     "output_type": "stream",
     "text": [
      "Enter the number 1 :232\n",
      "Enter the lower_limit :1\n",
      "Enter the upper_limit:90\n",
      "1\n",
      "3\n",
      "5\n",
      "7\n",
      "9\n",
      "11\n",
      "13\n",
      "15\n",
      "17\n",
      "19\n",
      "21\n",
      "23\n",
      "25\n",
      "27\n",
      "31\n",
      "33\n",
      "35\n",
      "37\n",
      "39\n",
      "41\n",
      "43\n",
      "45\n",
      "47\n",
      "49\n",
      "51\n",
      "53\n",
      "55\n",
      "57\n",
      "59\n",
      "61\n",
      "63\n",
      "65\n",
      "67\n",
      "69\n",
      "71\n",
      "73\n",
      "75\n",
      "77\n",
      "79\n",
      "81\n",
      "83\n",
      "85\n",
      "89\n"
     ]
    }
   ],
   "source": [
    "#Program to check all the co primes of the a number.\n",
    "from math import gcd\n",
    "num1=int(input(\"Enter the number 1 :\"))\n",
    "lower_limit=int(input(\"Enter the lower_limit :\"))\n",
    "upper_limit=int(input(\"Enter the upper_limit:\"))\n",
    "for i in range(lower_limit,upper_limit+1):\n",
    "    if(gcd(num1,i)==1):\n",
    "        print(i)\n",
    "    "
   ]
  },
  {
   "cell_type": "code",
   "execution_count": 13,
   "metadata": {},
   "outputs": [
    {
     "name": "stdout",
     "output_type": "stream",
     "text": [
      "30\n"
     ]
    }
   ],
   "source": [
    "#Maximum value in a list for nested list\n",
    "list2=[]\n",
    "def get_max(list1):\n",
    "    for i in list1:\n",
    "        if(type(i)==list):\n",
    "            get_max(i)\n",
    "        else:\n",
    "            list2.append(i)\n",
    "    return max(list2)\n",
    "list1=[7,9,[12,5,[30,15],17],7]\n",
    "print(get_max(list1))\n"
   ]
  },
  {
   "cell_type": "code",
   "execution_count": 14,
   "metadata": {},
   "outputs": [
    {
     "name": "stdout",
     "output_type": "stream",
     "text": [
      "5\n"
     ]
    }
   ],
   "source": [
    "#Miniimum value in a list for nested list\n",
    "list2=[]\n",
    "def get_min(list1):\n",
    "    for i in list1:\n",
    "        if(type(i)==list):\n",
    "            get_max(i)\n",
    "        else:\n",
    "            list2.append(i)\n",
    "    return min(list2)\n",
    "list1=[7,9,[12,5,[30,15],17],7]\n",
    "print(get_min(list1))\n"
   ]
  },
  {
   "cell_type": "code",
   "execution_count": 16,
   "metadata": {},
   "outputs": [
    {
     "name": "stdout",
     "output_type": "stream",
     "text": [
      "Enter the number of rows:5\n",
      "1 \n",
      "2 6 \n",
      "3 7 10 \n",
      "4 8 11 13 \n",
      "5 9 12 14 15 \n"
     ]
    }
   ],
   "source": [
    "n=int(input(\"Enter the number of rows:\"))\n",
    "for row in range(n):\n",
    "    val=row+1\n",
    "    dec=n-1\n",
    "    for col in range(row+1):\n",
    "        print(val,end=\" \")\n",
    "        val=val+dec\n",
    "        dec=dec-1\n",
    "    print()"
   ]
  },
  {
   "cell_type": "code",
   "execution_count": 18,
   "metadata": {},
   "outputs": [
    {
     "name": "stdout",
     "output_type": "stream",
     "text": [
      "Enter the number of rows:5\n",
      "15 \n",
      "14 10 \n",
      "13 9  6  \n",
      "12 8  5  3  \n",
      "11 7  4  2  1  \n"
     ]
    }
   ],
   "source": [
    "#Printing Numbers in Triangle Shape | Column wise\n",
    "\n",
    "def num(n1):\n",
    "    if n1==1:\n",
    "        return 1\n",
    "    return n1+num(n1-1)\n",
    "n=int(input(\"Enter the number of rows:\"))\n",
    "\n",
    "k=num(n)\n",
    "for row in range(n):\n",
    "    val=k-row\n",
    "    dec=n-1\n",
    "    for col in range(row+1):\n",
    "        print(format(val,\"<3\"),end=\"\")\n",
    "        val=val-dec\n",
    "        dec=dec-1\n",
    "    print()"
   ]
  },
  {
   "cell_type": "code",
   "execution_count": 25,
   "metadata": {},
   "outputs": [],
   "source": [
    "#Leap_Year---366 (for 4 years we get 1 leap year) ?How 365.25 for 4 years so in every 4th year we get leap year.\n",
    "#Normal_Year---365.25 ~365\n",
    "#so when year completely divided by 4 then is leap year. \n",
    "#but this doesnt apply for centuray year so divide by 100 To determine it that centuray year is a leap year\n",
    "#but to determine that century year is also a leap year divide by 400\n"
   ]
  },
  {
   "cell_type": "code",
   "execution_count": 28,
   "metadata": {},
   "outputs": [
    {
     "name": "stdout",
     "output_type": "stream",
     "text": [
      "Enter the Year:2005\n",
      "2005 Not a leap year\n"
     ]
    }
   ],
   "source": [
    "year=int(input(\"Enter the Year:\"))\n",
    "if(year%4==0):\n",
    "    if(year%100==0):\n",
    "        if(year%400==0):\n",
    "            print(year,\"is a leap year\")\n",
    "        else:\n",
    "            print(year,\"is not a leap year\")\n",
    "    else:\n",
    "        print(year,\"is leap year\")\n",
    "else:\n",
    "    print(year,\"Not a leap year\")"
   ]
  },
  {
   "cell_type": "code",
   "execution_count": 29,
   "metadata": {},
   "outputs": [
    {
     "name": "stdout",
     "output_type": "stream",
     "text": [
      "Year:2000\n",
      "Given year is leap year\n"
     ]
    }
   ],
   "source": [
    "#Another WAY\n",
    "year=int(input(\"Year:\"))\n",
    "if(year%4==0 and year%100!=0 or year%400==0):\n",
    "    print(\"Given year is leap year\")\n",
    "else:\n",
    "    print(\"Not a leap year\")"
   ]
  },
  {
   "cell_type": "code",
   "execution_count": 31,
   "metadata": {},
   "outputs": [
    {
     "name": "stdout",
     "output_type": "stream",
     "text": [
      "Enter day:13\n",
      "Enter month:12\n",
      "Enter year2000\n",
      "Entered date is valid\n"
     ]
    }
   ],
   "source": [
    "#To check entered date is valid date or not!\n",
    "\n",
    "day=int(input(\"Enter day:\"))\n",
    "month=int(input(\"Enter month:\"))\n",
    "year=int(input(\"Enter year: \"))\n",
    "\n",
    "#(OR)\n",
    "\n",
    "#date=input(\"Enter the date in dd/mm/yyyy format:\")\n",
    "#day,month,year=date.split('/')\n",
    "#day=int(day)\n",
    "#month=int(month)\n",
    "#year=int(year)\n",
    "\n",
    "if(month==1 | month==3 | month==5 | month==7 | month==8 | month==10 or month==12 ):\n",
    "    max_days=31\n",
    "elif(month==4 or month==6 or month==9 or month==11):\n",
    "    max_days=30\n",
    "elif(year%4==0 and year%100 or year%400==0):#LEAP YEAR\n",
    "    max_days=29\n",
    "else:\n",
    "    max_days=28 #NOT A LEAP YEAR\n",
    "if(month<1 or month>12):\n",
    "    print(\"Entered date is invalid\")\n",
    "    print(\"Check the range of month\")\n",
    "elif(day<1 or day>max_days):\n",
    "    print(\"Entered date is invalid \")\n",
    "    print(\"Check the range of day\")\n",
    "else:\n",
    "    print(\"Entered date is valid\")"
   ]
  },
  {
   "cell_type": "code",
   "execution_count": 33,
   "metadata": {},
   "outputs": [
    {
     "name": "stdout",
     "output_type": "stream",
     "text": [
      "enter the date in dd/mm/yyyy format :21/02/2012\n",
      "21/02/2012 The given date is palindrome\n"
     ]
    }
   ],
   "source": [
    "#Entered date is palindrome or not!:\n",
    "date=input(\"enter the date in dd/mm/yyyy format :\")\n",
    "given_date=date.replace(\"/\",\"\")\n",
    "reversed_date=given_date[::-1]\n",
    "if(given_date==reversed_date):\n",
    "    print(date,\"The given date is palindrome\")\n",
    "else:\n",
    "    print(date,\"Is not palindrome\")"
   ]
  },
  {
   "cell_type": "code",
   "execution_count": 35,
   "metadata": {},
   "outputs": [
    {
     "name": "stdout",
     "output_type": "stream",
     "text": [
      "Enter day:21\n",
      "Enter month:02\n",
      "Enter year: 2012\n",
      "21/02/2012 The given date is palindrome\n"
     ]
    }
   ],
   "source": [
    "#dd/mm/yyyy Format\n",
    "day=input(\"Enter day:\")\n",
    "month=input(\"Enter month:\")\n",
    "year=input(\"Enter year: \")\n",
    "given_date=day+month+year\n",
    "reversed_date=given_date[::-1]\n",
    "if(given_date==reversed_date):\n",
    "    print(date,\"The given date is palindrome\")\n",
    "else:\n",
    "    print(date,\"Is not palindrome\")"
   ]
  },
  {
   "cell_type": "code",
   "execution_count": 41,
   "metadata": {},
   "outputs": [
    {
     "name": "stdout",
     "output_type": "stream",
     "text": [
      "Enter day(dd):12\n",
      "Enter month(mm):02\n",
      "Enter year(yyyy): 2000\n",
      "10 / 2 / 2001 Date is the next palindrome\n"
     ]
    }
   ],
   "source": [
    "#To print next palindrome date\n",
    "day=int(input(\"Enter day(dd):\"))\n",
    "month=int(input(\"Enter month(mm):\"))\n",
    "year=int(input(\"Enter year(yyyy): \"))\n",
    "count=0\n",
    "\n",
    "def function(month,year): #Validating the the date\n",
    "    if(month==1 or month==3 or month==5 or month==7 or month==8 or month==10 or month==12 ):\n",
    "        max_days=31\n",
    "    elif(month==4 or month==6 or month==9 or month==11):\n",
    "        max_days=30\n",
    "    elif(year%4==0 and year%100 or year%400==0):#LEAP YEAR\n",
    "        max_days=29\n",
    "    else:\n",
    "        max_days=28 #NOT A LEAP YEAR\n",
    "    return max_days\n",
    "while(True): # TO CHECK THE DATE IS PALINDROME OR NOT\n",
    "    max_days=function(month,year)\n",
    "    if(day>0 and day<=max_days) and (month>0 and month<13):\n",
    "        dd=str(day)\n",
    "        mm=str(month)\n",
    "        yyyy=str(year)\n",
    "        if(month<10):\n",
    "            mm=\"0\"+mm\n",
    "        if(day<10):\n",
    "            dd=\"0\"+dd\n",
    "        given_date=dd+mm+yyyy\n",
    "        reversed_date=given_date[::-1]\n",
    "        if(given_date==reversed_date):\n",
    "            if(count==0):\n",
    "                print(day,\"/\",month,\"/\",year,\"Date is palindrome\")\n",
    "            else:\n",
    "                 print(day,\"/\",month,\"/\",year,\"Date is the next palindrome\")\n",
    "            break\n",
    "        else:#To check the next plalindrome\n",
    "            day=day+1\n",
    "            if(day>max_days):\n",
    "                day=1\n",
    "                month=month+1\n",
    "                if(month>12):\n",
    "                    month=1\n",
    "                    year=year+1\n",
    "            count=count+1    \n",
    "    else:\n",
    "        print(\"INVALID DATE\")\n",
    "        break"
   ]
  },
  {
   "cell_type": "code",
   "execution_count": 9,
   "metadata": {},
   "outputs": [
    {
     "name": "stdout",
     "output_type": "stream",
     "text": [
      "Enter the Year : 2020\n",
      "2 / 2 / 2020\n"
     ]
    }
   ],
   "source": [
    "#Program To Print All the Palindrome Dates in The Given Year range\n",
    "year=int(input(\"Enter the Year : \"))\n",
    "\n",
    "def function(month,year):\n",
    "    if(month==1 or month==3 or month==5 or month==7 or month==8 or month==10 or month==12 ):\n",
    "        max_days=31\n",
    "    elif(month==4 or month==6 or month==9 or month==11):\n",
    "        max_days=30\n",
    "    elif(year%4==0 and year%100 or year%400==0):#LEAP YEAR\n",
    "        max_days=29\n",
    "    else:\n",
    "        max_days=28 #NOT A LEAP YEAR\n",
    "    return max_days\n",
    "\n",
    "for month in range(1,13):\n",
    "    max_days=function(month,year)\n",
    "    for day in range(1,max_days+1):\n",
    "        dd=str(day)\n",
    "        mm=str(month)\n",
    "        yyyy=str(year)\n",
    "        if month<10:\n",
    "            mm=\"0\"+mm\n",
    "        if day<10:\n",
    "            dd=\"0\"+dd\n",
    "        given_date=dd+mm+yyyy\n",
    "        reversed_date=given_date[::-1]\n",
    "        if(given_date==reversed_date):\n",
    "            print(day,\"/\",month,\"/\",year)"
   ]
  },
  {
   "cell_type": "code",
   "execution_count": 13,
   "metadata": {},
   "outputs": [
    {
     "name": "stdout",
     "output_type": "stream",
     "text": [
      "10 / 2 / 2001\n",
      "20 / 2 / 2002\n",
      "1 / 2 / 2010\n",
      "11 / 2 / 2011\n",
      "21 / 2 / 2012\n",
      "2 / 2 / 2020\n",
      "12 / 2 / 2021\n",
      "22 / 2 / 2022\n",
      "3 / 2 / 2030\n",
      "13 / 2 / 2031\n",
      "23 / 2 / 2032\n",
      "4 / 2 / 2040\n",
      "14 / 2 / 2041\n",
      "24 / 2 / 2042\n",
      "5 / 2 / 2050\n",
      "15 / 2 / 2051\n",
      "25 / 2 / 2052\n",
      "6 / 2 / 2060\n",
      "16 / 2 / 2061\n",
      "26 / 2 / 2062\n",
      "7 / 2 / 2070\n",
      "17 / 2 / 2071\n",
      "27 / 2 / 2072\n",
      "8 / 2 / 2080\n",
      "18 / 2 / 2081\n",
      "28 / 2 / 2082\n",
      "9 / 2 / 2090\n",
      "19 / 2 / 2091\n",
      "29 / 2 / 2092\n"
     ]
    }
   ],
   "source": [
    "#Program To Print All the Palindrome Dates in The Given Year\n",
    "def function(month,year):\n",
    "    if(month==1 or month==3 or month==5 or month==7 or month==8 or month==10 or month==12 ):\n",
    "        max_days=31\n",
    "    elif(month==4 or month==6 or month==9 or month==11):\n",
    "        max_days=30\n",
    "    elif(year%4==0 and year%100 or year%400==0):#LEAP YEAR\n",
    "        max_days=29\n",
    "    else:\n",
    "        max_days=28 #NOT A LEAP YEAR\n",
    "    return max_days\n",
    "for year in range(2000,2095):\n",
    "    for month in range(1,13):\n",
    "        max_days=function(month,year)\n",
    "        for day in range(1,max_days+1):\n",
    "            dd=str(day)\n",
    "            mm=str(month)\n",
    "            yyyy=str(year)\n",
    "            if month<10:\n",
    "                mm=\"0\"+mm\n",
    "            if day<10:\n",
    "                dd=\"0\"+dd\n",
    "            given_date=dd+mm+yyyy\n",
    "            reversed_date=given_date[::-1]\n",
    "            if(given_date==reversed_date):\n",
    "                print(day,\"/\",month,\"/\",year)"
   ]
  },
  {
   "cell_type": "code",
   "execution_count": 6,
   "metadata": {},
   "outputs": [
    {
     "name": "stdout",
     "output_type": "stream",
     "text": [
      "Enter the name1 : Suresh\n",
      "Enyter the name2 : Rakesh\n",
      "suresh\n",
      "rakesh\n",
      "4\n",
      "Relationship is: Enemies\n"
     ]
    }
   ],
   "source": [
    "#Flames game\n",
    "name1=input(\"Enter the name1 : \").lower()\n",
    "name2=input(\"Enyter the name2 : \").lower()\n",
    "name1=name1.replace(\" \",\"\")\n",
    "name2=name2.replace(\" \",\"\")\n",
    "print(name1)\n",
    "print(name2)\n",
    "\n",
    "for i in name1:\n",
    "    for j in name2:\n",
    "        if(i==j):\n",
    "            name1=name1.replace(i,\"\",1)\n",
    "            name2=name2.replace(j,\"\",1)\n",
    "            break\n",
    "count=len(name1+name2)\n",
    "print(count)\n",
    "\n",
    "if(count>0):\n",
    "    list1=[\"Friends\",\"Lovers\",\"Affectionate\",\"Marriage\",\"Enemies\",\"Sibling\"]\n",
    "    while(len(list1)>1):\n",
    "        c=count%len(list1)\n",
    "        s_index=c-1\n",
    "        if(s_index>=0):\n",
    "            left=list1[:s_index]\n",
    "            right=list1[s_index+1:]\n",
    "            list1=right+left\n",
    "        else:\n",
    "            list1=list1[:len(list1)-1]\n",
    "    print(\"Relationship is:\",list1[0])\n",
    "else:\n",
    "    print(\"Enter different name\")\n",
    "    \n"
   ]
  },
  {
   "cell_type": "code",
   "execution_count": 13,
   "metadata": {},
   "outputs": [
    {
     "name": "stdout",
     "output_type": "stream",
     "text": [
      "Enter the row number :2\n",
      "Enter the column number :2\n",
      "Enter the elements for matrix1:\n",
      "12\n",
      "32\n",
      "33\n",
      "23\n",
      "matrix1:\n",
      "12 32 \n",
      "33 23 \n",
      "Enter the elements for matrix2:\n",
      "43\n",
      "22\n",
      "23\n",
      "12\n",
      "matrix2:\n",
      "43 22 \n",
      "23 12 \n",
      "Result is :\n",
      "55 54 \n",
      "56 35 \n"
     ]
    }
   ],
   "source": [
    "#Program for Matrix Addition \n",
    "row=int(input(\"Enter the row number :\"))\n",
    "col=int(input(\"Enter the column number :\"))\n",
    "\n",
    "print(\"Enter the elements for matrix1:\")\n",
    "#INPUT FOR THE MATRIX 1:\n",
    "matrix1=[[int(input()) for i in range(col)] for j in range(row)]\n",
    "print(\"matrix1:\")\n",
    "      \n",
    "#DISPLAYING MATRIX 1:\n",
    "for i in range(row):\n",
    "    for j in range(col):\n",
    "        print(format(matrix1[i][j],\"<3\"),end=\"\")\n",
    "    print()\n",
    "print(\"Enter the elements for matrix2:\")\n",
    "\n",
    "#INPUT FOR THE MATRIX 2:\n",
    "matrix2=[[int(input()) for i in range(col)] for j in range(row)]\n",
    "print(\"matrix2:\")\n",
    "\n",
    "#DISPLAYING MATRIX 2:\n",
    "for i in range(row):\n",
    "    for j in range(col):\n",
    "        print(format(matrix2[i][j],\"<3\"),end=\"\")\n",
    "    print()\n",
    "    \n",
    "    \n",
    "#PERFORMINING OPERATION ON THE MATRIX ADDITION OR SUBSTRACTION:\n",
    "result=[[0 for i in range(col)] for j in range(row)]\n",
    "for i in range(row):\n",
    "    for j in range(col):\n",
    "        result[i][j]=matrix1[i][j]+matrix2[i][j]\n",
    "\n",
    "\n",
    "\n",
    "print(\"Result is :\")\n",
    "for i in range(row):\n",
    "    for j in range(col):\n",
    "          print(format(result[i][j],\"<3\"),end=\"\")\n",
    "    print()"
   ]
  },
  {
   "cell_type": "code",
   "execution_count": 14,
   "metadata": {},
   "outputs": [
    {
     "name": "stdout",
     "output_type": "stream",
     "text": [
      "Enter the row number :2\n",
      "Enter the column number :2\n",
      "Enter the elements for matrix1:\n",
      "23\n",
      "25\n",
      "45\n",
      "45\n",
      "matrix1:\n",
      "23 25 \n",
      "45 45 \n",
      "Enter the elements for matrix2:\n",
      "27\n",
      "45\n",
      "87\n",
      "56\n",
      "matrix2:\n",
      "27 45 \n",
      "87 56 \n",
      "Result is :\n",
      "-4 -20\n",
      "-42-11\n"
     ]
    }
   ],
   "source": [
    "#Program for Matrix Subscription \n",
    "row=int(input(\"Enter the row number :\"))\n",
    "col=int(input(\"Enter the column number :\"))\n",
    "\n",
    "print(\"Enter the elements for matrix1:\")\n",
    "#INPUT FOR THE MATRIX 1:\n",
    "matrix1=[[int(input()) for i in range(col)] for j in range(row)]\n",
    "print(\"matrix1:\")\n",
    "      \n",
    "#DISPLAYING MATRIX 1:\n",
    "for i in range(row):\n",
    "    for j in range(col):\n",
    "        print(format(matrix1[i][j],\"<3\"),end=\"\")\n",
    "    print()\n",
    "print(\"Enter the elements for matrix2:\")\n",
    "\n",
    "#INPUT FOR THE MATRIX 2:\n",
    "matrix2=[[int(input()) for i in range(col)] for j in range(row)]\n",
    "print(\"matrix2:\")\n",
    "\n",
    "#DISPLAYING MATRIX 2:\n",
    "for i in range(row):\n",
    "    for j in range(col):\n",
    "        print(format(matrix2[i][j],\"<3\"),end=\"\")\n",
    "    print()\n",
    "    \n",
    "    \n",
    "#PERFORMINING OPERATION ON THE MATRIX ADDITION OR SUBSTRACTION:\n",
    "result=[[0 for i in range(col)] for j in range(row)]\n",
    "for i in range(row):\n",
    "    for j in range(col):\n",
    "        result[i][j]=matrix1[i][j]-matrix2[i][j]\n",
    "\n",
    "\n",
    "\n",
    "print(\"Result is :\")\n",
    "for i in range(row):\n",
    "    for j in range(col):\n",
    "          print(format(result[i][j],\"<3\"),end=\"\")\n",
    "    print()"
   ]
  },
  {
   "cell_type": "code",
   "execution_count": 17,
   "metadata": {},
   "outputs": [
    {
     "name": "stdout",
     "output_type": "stream",
     "text": [
      "Enter the row number for matrix1 :2\n",
      "Enter the column number for matrix2 :2\n",
      "Enter the column number for matrix1/row number of matrix22\n",
      "Enter the elements for matrix1:\n",
      "32\n",
      "22\n",
      "32\n",
      "23\n",
      "matrix1:\n",
      "32   22   \n",
      "32   23   \n",
      "Enter the elements for matrix2:\n",
      "34\n",
      "23\n",
      "45\n",
      "34\n",
      "matrix2:\n",
      "34   23   \n",
      "45   34   \n",
      "Result is :\n",
      "2078 1484 \n",
      "2123 1518 \n"
     ]
    }
   ],
   "source": [
    "#Program for Matrix Substraction\n",
    "p=int(input(\"Enter the row number for matrix1 :\"))\n",
    "q=int(input(\"Enter the column number for matrix2 :\"))\n",
    "n=int(input(\"Enter the column number for matrix1/row number of matrix2\"))\n",
    "\n",
    "print(\"Enter the elements for matrix1:\")\n",
    "#INPUT FOR THE MATRIX 1:\n",
    "matrix1=[[int(input()) for i in range(n)] for j in range(p)]\n",
    "print(\"matrix1:\")\n",
    "      \n",
    "#DISPLAYING MATRIX 1:\n",
    "for i in range(p):\n",
    "    for j in range(n):\n",
    "        print(format(matrix1[i][j],\"<5\"),end=\"\")\n",
    "    print()\n",
    "print(\"Enter the elements for matrix2:\")\n",
    "\n",
    "#INPUT FOR THE MATRIX 2:\n",
    "matrix2=[[int(input()) for i in range(q)] for j in range(n)]\n",
    "print(\"matrix2:\")\n",
    "\n",
    "#DISPLAYING MATRIX 2:\n",
    "for i in range(row):\n",
    "    for j in range(col):\n",
    "        print(format(matrix2[i][j],\"<5\"),end=\"\")\n",
    "    print()\n",
    "    \n",
    "    \n",
    "#PERFORMINING OPERATION ON THE MATRIX ADDITION OR SUBSTRACTION:\n",
    "result=[[0 for i in range(q)] for j in range(p)]\n",
    "for i in range(p):\n",
    "    for j in range(q):\n",
    "        for k in range(n):\n",
    "            result[i][j]=result[i][j]+matrix1[i][k]*matrix2[k][j]\n",
    "\n",
    "\n",
    "\n",
    "\n",
    "print(\"Result is :\")\n",
    "for i in range(row):\n",
    "    for j in range(col):\n",
    "          print(format(result[i][j],\"<5\"),end=\"\")\n",
    "    print()"
   ]
  },
  {
   "cell_type": "code",
   "execution_count": 19,
   "metadata": {},
   "outputs": [
    {
     "name": "stdout",
     "output_type": "stream",
     "text": [
      "Enter the number of rows :  2\n",
      "Enter the number of columns : 2\n",
      "enter the elements for matrix1:\n",
      "12\n",
      "32\n",
      "12\n",
      "332\n",
      "matrix1:\n",
      "12  32  \n",
      "12  332 \n",
      "TRANSFORMED MATRIX :\n",
      "12  12  \n",
      "32  332 \n"
     ]
    }
   ],
   "source": [
    "#TRANSPOSE OF A MATRIX:\n",
    "p=int(input(\"Enter the number of rows :  \" ))\n",
    "q=int(input(\"Enter the number of columns : \"))\n",
    "print(\"enter the elements for matrix1:\")\n",
    "\n",
    "#TAKING INPUT\n",
    "matrix1=[[int(input()) for i in range(q)] for j in range(p)]\n",
    "\n",
    "print(\"matrix1:\")\n",
    "\n",
    "#DISPLAYING THE INPUT\n",
    "for i in range(p):\n",
    "    for j in range(q):\n",
    "        print(format(matrix1[i][j],\"<4\"),end=\"\")\n",
    "    print()\n",
    "\n",
    "#STORING THE RESULT:\n",
    "result=[[0 for i in range(p)] for j in range(q)]\n",
    "\n",
    "#TRANSFORMING THE RESULT:\n",
    "for i in range(q):\n",
    "    for j in range(p):\n",
    "        result[i][j]=matrix1[j][i]\n",
    "\n",
    "print(\"TRANSFORMED MATRIX :\")\n",
    "#DISPLAYING THE RESULT:\n",
    "for i in range(q):\n",
    "    for j in range(p):\n",
    "        print(format(result[i][j],\"<4\"),end=\"\")\n",
    "    print()"
   ]
  },
  {
   "cell_type": "code",
   "execution_count": 2,
   "metadata": {},
   "outputs": [
    {
     "name": "stdout",
     "output_type": "stream",
     "text": [
      "Enter your nameIsaiah\n",
      "hello Isaiah Welcome to the quiz world\n",
      "\n",
      "Is Python case sensitive when dealing with Identifiers?\n",
      "a.Yes\n",
      "b.No\n",
      "c.Machine Dependent\n",
      "d.None\n",
      "Do you want to skip the question (yes/no) :no\n",
      "enter the answer (a/b/c/d):a\n",
      "correct answer, you got 1 point\n",
      "current score is : 1\n",
      "Do you want to quit the quiz(yes/no):no\n",
      "\n",
      "Which of the following is not a keyword?\n",
      "a.eval\n",
      "b.assert\n",
      "c.local\n",
      "d.pass\n",
      "Do you want to skip the question (yes/no) :no\n",
      "enter the answer (a/b/c/d):a\n",
      "correct answer, you got 1 point\n",
      "current score is : 2\n",
      "Do you want to quit the quiz(yes/no):no\n",
      "\n",
      "Which one of these is floor division?\n",
      "a./\n",
      "b.//\n",
      "c.%\n",
      "d.None\n",
      "Do you want to skip the question (yes/no) :no\n",
      "enter the answer (a/b/c/d):b\n",
      "correct answer, you got 1 point\n",
      "current score is : 3\n",
      "Do you want to quit the quiz(yes/no):no\n",
      "\n",
      "What is the output of this 3*1**3?\n",
      "a.27\n",
      "b.9\n",
      "c.3\n",
      "d.1\n",
      "Do you want to skip the question (yes/no) :no\n",
      "enter the answer (a/b/c/d):c\n",
      "correct answer, you got 1 point\n",
      "current score is : 4\n",
      "Do you want to quit the quiz(yes/no):no\n",
      "\n",
      "\"a\"+\"bc=??\"\n",
      "a.a\n",
      "b.bc\n",
      "c.bca\n",
      "d.abc\n",
      "\n",
      "Do you want to skip the question (yes/no) :no\n",
      "enter the answer (a/b/c/d):d\n",
      "correct answer, you got 1 point\n",
      "current score is : 5\n",
      "Do you want to quit the quiz(yes/no):no\n",
      "Final score is : 5\n"
     ]
    }
   ],
   "source": [
    "#CREATING QUIZ USING DICTIONARY :\n",
    "\n",
    "q1=\"\"\"Is Python case sensitive when dealing with Identifiers?\n",
    "a.Yes\n",
    "b.No\n",
    "c.Machine Dependent\n",
    "d.None\"\"\"\n",
    "\n",
    "q2=\"\"\"Which of the following is not a keyword?\n",
    "a.eval\n",
    "b.assert\n",
    "c.local\n",
    "d.pass\"\"\"\n",
    "\n",
    "q3=\"\"\"Which one of these is floor division?\n",
    "a./\n",
    "b.//\n",
    "c.%\n",
    "d.None\"\"\"\n",
    "\n",
    "q4=\"\"\"What is the output of this 3*1**3?\n",
    "a.27\n",
    "b.9\n",
    "c.3\n",
    "d.1\"\"\"\n",
    "\n",
    "q5=\"\"\"\"a\"+\"bc\"=??\"\n",
    "a.a\n",
    "b.bc\n",
    "c.bca\n",
    "d.abc\n",
    "\"\"\"\n",
    "\n",
    "questions={q1:\"a\",q2:\"a\",q3:\"b\",q4:\"c\",q5:\"d\"}\n",
    "name=input(\"Enter your name :\")\n",
    "print(\"hello\",name,\"Welcome to the quiz world\")\n",
    "score=0\n",
    "for i in questions:\n",
    "    print()\n",
    "    print(i)\n",
    "    flag1=input(\"Do you want to skip the question (yes/no) :\")\n",
    "    if(flag1==\"yes\"):\n",
    "        continue\n",
    "    ans=input(\"enter the answer (a/b/c/d):\")\n",
    "    if(ans==questions[i]):\n",
    "        score=score+1\n",
    "        print(\"correct answer, you got 1 point\")\n",
    "        print(\"current score is :\",score)\n",
    "    else:\n",
    "        print(\"Wrong answer you lost 1  point\")\n",
    "        score=score-1\n",
    "        print(\"current score is :\",score)\n",
    "    flag2=input(\"Do you want to quit the quiz(yes/no):\")\n",
    "    if(flag2==\"yes\"):\n",
    "        break\n",
    "print(\"Final score is :\",score)\n",
    "    "
   ]
  },
  {
   "cell_type": "code",
   "execution_count": 6,
   "metadata": {},
   "outputs": [
    {
     "name": "stdout",
     "output_type": "stream",
     "text": [
      "Enter a odd length number :12345\n",
      "1       1 \n",
      "  2   2   \n",
      "    3     \n",
      "  4   4   \n",
      "5       5 \n"
     ]
    }
   ],
   "source": [
    "#Pattern Program!: in x shape\n",
    "num=input(\"Enter a odd length number :\")\n",
    "length=len(num)\n",
    "\n",
    "for row in range(length):\n",
    "    for col in range(length):\n",
    "        if(row==col or row+col==length-1):\n",
    "            print(num[row],end=\" \")\n",
    "        else:\n",
    "            print(\" \",end=\" \")\n",
    "    print()\n"
   ]
  },
  {
   "cell_type": "code",
   "execution_count": 7,
   "metadata": {},
   "outputs": [
    {
     "name": "stdout",
     "output_type": "stream",
     "text": [
      "Enter a odd length number :12345\n",
      "1       5 \n",
      "  2   4   \n",
      "    3     \n",
      "  2   4   \n",
      "1       5 \n"
     ]
    }
   ],
   "source": [
    "#Pattern Program!: in x shape\n",
    "num=input(\"Enter a odd length number :\")\n",
    "length=len(num)\n",
    "\n",
    "for row in range(length):\n",
    "    for col in range(length):\n",
    "        if(row==col or row+col==length-1):\n",
    "            print(num[col],end=\" \")\n",
    "        else:\n",
    "            print(\" \",end=\" \")\n",
    "    print()"
   ]
  },
  {
   "cell_type": "code",
   "execution_count": 8,
   "metadata": {},
   "outputs": [
    {
     "name": "stdout",
     "output_type": "stream",
     "text": [
      "Enter the number of rows :4\n",
      "111  \n",
      "111  222  \n",
      "111  222  333  \n",
      "111  222  333  444  \n"
     ]
    }
   ],
   "source": [
    "#PATTERN PROGRAM\n",
    "num=int(input(\"Enter the number of rows :\"))\n",
    "for i in range(num):\n",
    "    k=111\n",
    "    for j in range(i+1):\n",
    "        print(format(k,\"<5\"),end=\"\")\n",
    "        k=k+111\n",
    "    print()"
   ]
  },
  {
   "cell_type": "code",
   "execution_count": 9,
   "metadata": {},
   "outputs": [
    {
     "name": "stdout",
     "output_type": "stream",
     "text": [
      "Enter the number of rows :4\n",
      "               111  \n",
      "          111  222  \n",
      "     111  222  333  \n",
      "111  222  333  444  \n"
     ]
    }
   ],
   "source": [
    "#PATTERN PROGRAM\n",
    "num=int(input(\"Enter the number of rows :\"))\n",
    "for i in range(num):\n",
    "    k=111\n",
    "    for j in range(num-i-1):\n",
    "        print(format(\" \",\"<5\"),end=\"\")\n",
    "    for j in range(i+1):\n",
    "        print(format(k,\"<5\"),end=\"\")\n",
    "        k=k+111\n",
    "    print()"
   ]
  },
  {
   "cell_type": "code",
   "execution_count": 10,
   "metadata": {},
   "outputs": [
    {
     "name": "stdout",
     "output_type": "stream",
     "text": [
      "Enter the number of rows :4\n",
      "               111  \n",
      "          222  111  \n",
      "     333  222  111  \n",
      "444  333  222  111  \n"
     ]
    }
   ],
   "source": [
    "#PATTERN PROGRAM\n",
    "num=int(input(\"Enter the number of rows :\"))\n",
    "for i in range(num):\n",
    "    k=111\n",
    "    for j in range(num-i-1):\n",
    "        print(format(\" \",\"<5\"),end=\"\")\n",
    "    k=k*(i+1)\n",
    "    for j in range(i+1):\n",
    "        print(format(k,\"<5\"),end=\"\")\n",
    "        k=k-111\n",
    "    print()"
   ]
  },
  {
   "cell_type": "code",
   "execution_count": 7,
   "metadata": {},
   "outputs": [
    {
     "name": "stdout",
     "output_type": "stream",
     "text": [
      "Enter the number :5\n",
      "5 is fibonacci number\n"
     ]
    }
   ],
   "source": [
    "#Fibonacci series and fibonacci number :\n",
    "#a number is a fibonacci number if one of them or both of them are perfect squares\n",
    "#EX: N=5 ....(5*N**2+4) OR (5*N**2-4) IF ANY OF THOSE OR BOTH ARE PERFECT SQUARES THEN ITS IS A PERFECT SQUARE.\n",
    "import math\n",
    "def Perfectsquare(x):\n",
    "    s=int(math.sqrt(x))\n",
    "    return s*s==x\n",
    "\n",
    "n=int(input(\"Enter the number :\"))\n",
    "result1=5*(n*n)+4\n",
    "result2=5*(n*n)-4\n",
    "\n",
    "if Perfectsquare(result1) or Perfectsquare(result2) :\n",
    "    print(n,\"is fibonacci number\")\n",
    "else:\n",
    "    print(n,\"is not fibonacci number\")"
   ]
  },
  {
   "cell_type": "code",
   "execution_count": 12,
   "metadata": {},
   "outputs": [
    {
     "name": "stdout",
     "output_type": "stream",
     "text": [
      "Enter the number of rows :10\n",
      "* * * * * * * * * * * * * * * * * * * * \n",
      "* * * * * * * * *     * * * * * * * * * \n",
      "* * * * * * * *         * * * * * * * * \n",
      "* * * * * * *             * * * * * * * \n",
      "* * * * * *                 * * * * * * \n",
      "* * * * *                     * * * * * \n",
      "* * * *                         * * * * \n",
      "* * *                             * * * \n",
      "* *                                 * * \n",
      "*                                     * \n",
      "* *                                 * * \n",
      "* * *                             * * * \n",
      "* * * *                         * * * * \n",
      "* * * * *                     * * * * * \n",
      "* * * * * *                 * * * * * * \n",
      "* * * * * * *             * * * * * * * \n",
      "* * * * * * * *         * * * * * * * * \n",
      "* * * * * * * * *     * * * * * * * * * \n",
      "* * * * * * * * * * * * * * * * * * * * \n"
     ]
    }
   ],
   "source": [
    "#Pattern Program HOLLOW DIAMOND\n",
    "n=int(input(\"Enter the number of rows :\"))\n",
    "for i in range(n,0,-1): #TO PRINT STARS\n",
    "    for j in range(i):\n",
    "        print(\"*\",end=\" \")\n",
    "    for j in range(2*(n-i)): #TO PRINT space\n",
    "        print(\" \",end=\" \")\n",
    "    for j in range(i,0,-1):\n",
    "        print(\"*\",end=\" \")#to print * \n",
    "    print()\n",
    "for i in range(1,n):\n",
    "    for j in range(i+1):\n",
    "        print(\"*\",end=\" \")\n",
    "    for j in range(2*(n-i-1)): #TO PRINT space\n",
    "        print(\" \",end=\" \")\n",
    "    for j in range(i+1):\n",
    "        print(\"*\",end=\" \")#to print * \n",
    "    print()\n",
    "        \n",
    "        "
   ]
  },
  {
   "cell_type": "code",
   "execution_count": 15,
   "metadata": {},
   "outputs": [
    {
     "name": "stdout",
     "output_type": "stream",
     "text": [
      "how many number of rows: 7\n",
      "                  1 \n",
      "               2 1 1 2 \n",
      "            3 2 1   1 2 3 \n",
      "         4 3 2 1     1 2 3 4 \n",
      "      5 4 3 2 1       1 2 3 4 5 \n",
      "   6 5 4 3 2 1         1 2 3 4 5 6 \n",
      "7 6 5 4 3 2 1           1 2 3 4 5 6 7 \n",
      "   6 5 4 3 2 1         1 2 3 4 5 6 \n",
      "      5 4 3 2 1       1 2 3 4 5 \n",
      "         4 3 2 1     1 2 3 4 \n",
      "            3 2 1   1 2 3 \n",
      "               2 1 1 2 \n",
      "                  1 \n"
     ]
    }
   ],
   "source": [
    "#Diamond number pattern\n",
    "n=int(input(\"how many number of rows: \"))\n",
    "for i in range(n):\n",
    "    k=i+1\n",
    "    for j in range(n-i-1):\n",
    "        print(\" \",end=\"  \")\n",
    "    for j in range(i+1):\n",
    "        print(k,end=\" \")\n",
    "        k=k-1\n",
    "    if(i>0):\n",
    "        for j in range(i-1):\n",
    "            print(\" \",end=\" \")\n",
    "        for j in range(i+1):\n",
    "            k=k+1\n",
    "            print(k,end=\" \")\n",
    "    print()\n",
    " #TO PRINT BOTTOM PART   \n",
    "for i in range(1,n):\n",
    "    k=n-i\n",
    "    for j in range(i):\n",
    "        print(\" \",end=\"  \")\n",
    "    for j in range(n-i):\n",
    "        print(k,end=\" \")\n",
    "        k=k-1\n",
    "    if(i<n-1):\n",
    "        for j in range(n-i-2):\n",
    "            print(\" \",end=\" \")\n",
    "        for j in range(n-i):\n",
    "            k=k+1\n",
    "            print(k,end=\" \")\n",
    "    print()\n",
    "    \n",
    "        \n",
    "        "
   ]
  },
  {
   "cell_type": "code",
   "execution_count": 18,
   "metadata": {},
   "outputs": [
    {
     "name": "stdout",
     "output_type": "stream",
     "text": [
      "Enter the value : 3\n",
      "3 3 3 3 3 \n",
      "3 2 2 2 3 \n",
      "3 2 1 2 3 \n",
      "3 2 2 2 3 \n",
      "3 3 3 3 3 \n"
     ]
    }
   ],
   "source": [
    "#MATRIX PATTERN:\n",
    "n=int(input(\"Enter the value : \"))\n",
    "k=(2*n)-1\n",
    "low=0\n",
    "high=k-1\n",
    "value=n\n",
    "matrix=[[0 for i in range(k)] for j in range(k)]\n",
    "for i in range(n):\n",
    "    for j in range(low,high+1):\n",
    "        matrix[i][j]=value\n",
    "    for j in range(low+1,high+1):\n",
    "        matrix[j][i]=value\n",
    "    for j in range(low+1,high+1):\n",
    "        matrix[high][j]=value\n",
    "    for j in range(low+1,high):\n",
    "        matrix[j][high]=value\n",
    "    low=low+1\n",
    "    high=high-1\n",
    "    value=value-1\n",
    "\n",
    "for i in range(k):\n",
    "    for j in range(k):\n",
    "        print(matrix[i][j],end=\" \")\n",
    "    print()\n",
    "    "
   ]
  },
  {
   "cell_type": "code",
   "execution_count": 23,
   "metadata": {},
   "outputs": [
    {
     "name": "stdout",
     "output_type": "stream",
     "text": [
      "Enter the first number :24\n",
      "Enter the second number :36\n",
      "72.0\n"
     ]
    }
   ],
   "source": [
    "#PROGRAM TO FIND L.C.M OF 2 NUMBERS..\n",
    "num1=int(input(\"Enter the first number :\"))\n",
    "num2=int(input(\"Enter the second number :\"))\n",
    "def LCM(num1,num2):\n",
    "    from math import gcd\n",
    "    GCD=gcd(num1,num2)\n",
    "    Product_of_two_numbers=(num1)*(num2)\n",
    "    LCM=(Product_of_two_numbers)/GCD\n",
    "    return LCM\n",
    "print(LCM(num1,num2))"
   ]
  },
  {
   "cell_type": "code",
   "execution_count": 6,
   "metadata": {},
   "outputs": [
    {
     "name": "stdout",
     "output_type": "stream",
     "text": [
      "Enter the first number :2\n",
      "Enter the second number :4\n",
      "LCM of 2 and 4 is 4\n"
     ]
    }
   ],
   "source": [
    "#ANOTHER WAY\n",
    "def Compute_LCM(num1,num2):\n",
    "    if(num1>num2): #FINDING BIGGER NUMBER\n",
    "        higher=num1\n",
    "    else:\n",
    "        higher=num2\n",
    "    value=higher\n",
    "    while(1):\n",
    "        if(higher%num1==0 and higher%num2==0):\n",
    "            print(\"LCM of\",num1,\"and\",num2,\"is\",higher)\n",
    "            break\n",
    "        else:\n",
    "            higher=higher+value\n",
    "num1=int(input(\"Enter the first number :\"))\n",
    "num2=int(input(\"Enter the second number :\"))\n",
    "Compute_LCM(num1,num2)"
   ]
  }
 ],
 "metadata": {
  "kernelspec": {
   "display_name": "Python 3",
   "language": "python",
   "name": "python3"
  },
  "language_info": {
   "codemirror_mode": {
    "name": "ipython",
    "version": 3
   },
   "file_extension": ".py",
   "mimetype": "text/x-python",
   "name": "python",
   "nbconvert_exporter": "python",
   "pygments_lexer": "ipython3",
   "version": "3.7.4"
  }
 },
 "nbformat": 4,
 "nbformat_minor": 2
}
